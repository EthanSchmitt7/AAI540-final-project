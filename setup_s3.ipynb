{
 "cells": [
  {
   "cell_type": "markdown",
   "id": "48d4293d-b82d-4ea3-b68b-54027acb3f78",
   "metadata": {},
   "source": [
    "# Setup S3 Bucket for OpenAQ data"
   ]
  },
  {
   "cell_type": "code",
   "execution_count": 1,
   "id": "f8be1bbf-5bf6-40e3-a8cb-ac8c3ca866a3",
   "metadata": {},
   "outputs": [
    {
     "name": "stdout",
     "output_type": "stream",
     "text": [
      "sagemaker.config INFO - Not applying SDK defaults from location: /etc/xdg/sagemaker/config.yaml\n",
      "sagemaker.config INFO - Not applying SDK defaults from location: /home/sagemaker-user/.config/sagemaker/config.yaml\n"
     ]
    }
   ],
   "source": [
    "import boto3\n",
    "import sagemaker\n",
    "import pandas as pd\n",
    "\n",
    "sess = sagemaker.Session()\n",
    "bucket = sess.default_bucket()\n",
    "role = sagemaker.get_execution_role()\n",
    "region = boto3.Session().region_name\n",
    "account_id = boto3.client(\"sts\").get_caller_identity().get(\"Account\")\n",
    "\n",
    "sm = boto3.Session().client(service_name=\"sagemaker\", region_name=region)"
   ]
  },
  {
   "cell_type": "code",
   "execution_count": 2,
   "id": "66082e7c-690a-4b07-b3c5-f4400d90e1d6",
   "metadata": {},
   "outputs": [
    {
     "name": "stdout",
     "output_type": "stream",
     "text": [
      "s3://sagemaker-us-east-1-768099485759/aai-final-project/openaq\n"
     ]
    }
   ],
   "source": [
    "s3_private_path_openaq = \"s3://{}/aai-final-project/openaq\".format(bucket)\n",
    "print(s3_private_path_openaq)"
   ]
  },
  {
   "cell_type": "markdown",
   "id": "0cfa04c8-0906-4b40-b27d-8281b0bad93f",
   "metadata": {},
   "source": [
    "8904 is the index of the West Los Angeles sensor"
   ]
  },
  {
   "cell_type": "code",
   "execution_count": 3,
   "id": "9cb8c78e-c2ae-4b02-84ae-ddf124941991",
   "metadata": {
    "scrolled": true
   },
   "outputs": [
    {
     "name": "stdout",
     "output_type": "stream",
     "text": [
      "copy: s3://openaq-data-archive/records/csv.gz/locationid=8904/year=2024/month=01/location-8904-20240103.csv.gz to s3://sagemaker-us-east-1-768099485759/aai-final-project/openaq/month=01/location-8904-20240103.csv.gz\n",
      "copy: s3://openaq-data-archive/records/csv.gz/locationid=8904/year=2024/month=01/location-8904-20240104.csv.gz to s3://sagemaker-us-east-1-768099485759/aai-final-project/openaq/month=01/location-8904-20240104.csv.gz\n",
      "copy: s3://openaq-data-archive/records/csv.gz/locationid=8904/year=2024/month=01/location-8904-20240102.csv.gz to s3://sagemaker-us-east-1-768099485759/aai-final-project/openaq/month=01/location-8904-20240102.csv.gz\n",
      "copy: s3://openaq-data-archive/records/csv.gz/locationid=8904/year=2024/month=01/location-8904-20240105.csv.gz to s3://sagemaker-us-east-1-768099485759/aai-final-project/openaq/month=01/location-8904-20240105.csv.gz\n",
      "copy: s3://openaq-data-archive/records/csv.gz/locationid=8904/year=2024/month=01/location-8904-20240101.csv.gz to s3://sagemaker-us-east-1-768099485759/aai-final-project/openaq/month=01/location-8904-20240101.csv.gz\n",
      "copy: s3://openaq-data-archive/records/csv.gz/locationid=8904/year=2024/month=01/location-8904-20240106.csv.gz to s3://sagemaker-us-east-1-768099485759/aai-final-project/openaq/month=01/location-8904-20240106.csv.gz\n",
      "copy: s3://openaq-data-archive/records/csv.gz/locationid=8904/year=2024/month=01/location-8904-20240111.csv.gz to s3://sagemaker-us-east-1-768099485759/aai-final-project/openaq/month=01/location-8904-20240111.csv.gz\n",
      "copy: s3://openaq-data-archive/records/csv.gz/locationid=8904/year=2024/month=01/location-8904-20240107.csv.gz to s3://sagemaker-us-east-1-768099485759/aai-final-project/openaq/month=01/location-8904-20240107.csv.gz\n",
      "copy: s3://openaq-data-archive/records/csv.gz/locationid=8904/year=2024/month=01/location-8904-20240108.csv.gz to s3://sagemaker-us-east-1-768099485759/aai-final-project/openaq/month=01/location-8904-20240108.csv.gz\n",
      "copy: s3://openaq-data-archive/records/csv.gz/locationid=8904/year=2024/month=01/location-8904-20240116.csv.gz to s3://sagemaker-us-east-1-768099485759/aai-final-project/openaq/month=01/location-8904-20240116.csv.gz\n",
      "copy: s3://openaq-data-archive/records/csv.gz/locationid=8904/year=2024/month=01/location-8904-20240109.csv.gz to s3://sagemaker-us-east-1-768099485759/aai-final-project/openaq/month=01/location-8904-20240109.csv.gz\n",
      "copy: s3://openaq-data-archive/records/csv.gz/locationid=8904/year=2024/month=01/location-8904-20240118.csv.gz to s3://sagemaker-us-east-1-768099485759/aai-final-project/openaq/month=01/location-8904-20240118.csv.gz\n",
      "copy: s3://openaq-data-archive/records/csv.gz/locationid=8904/year=2024/month=01/location-8904-20240117.csv.gz to s3://sagemaker-us-east-1-768099485759/aai-final-project/openaq/month=01/location-8904-20240117.csv.gz\n",
      "copy: s3://openaq-data-archive/records/csv.gz/locationid=8904/year=2024/month=01/location-8904-20240119.csv.gz to s3://sagemaker-us-east-1-768099485759/aai-final-project/openaq/month=01/location-8904-20240119.csv.gz\n",
      "copy: s3://openaq-data-archive/records/csv.gz/locationid=8904/year=2024/month=01/location-8904-20240114.csv.gz to s3://sagemaker-us-east-1-768099485759/aai-final-project/openaq/month=01/location-8904-20240114.csv.gz\n",
      "copy: s3://openaq-data-archive/records/csv.gz/locationid=8904/year=2024/month=01/location-8904-20240121.csv.gz to s3://sagemaker-us-east-1-768099485759/aai-final-project/openaq/month=01/location-8904-20240121.csv.gz\n",
      "copy: s3://openaq-data-archive/records/csv.gz/locationid=8904/year=2024/month=01/location-8904-20240120.csv.gz to s3://sagemaker-us-east-1-768099485759/aai-final-project/openaq/month=01/location-8904-20240120.csv.gz\n",
      "copy: s3://openaq-data-archive/records/csv.gz/locationid=8904/year=2024/month=01/location-8904-20240122.csv.gz to s3://sagemaker-us-east-1-768099485759/aai-final-project/openaq/month=01/location-8904-20240122.csv.gz\n",
      "copy: s3://openaq-data-archive/records/csv.gz/locationid=8904/year=2024/month=01/location-8904-20240115.csv.gz to s3://sagemaker-us-east-1-768099485759/aai-final-project/openaq/month=01/location-8904-20240115.csv.gz\n",
      "copy: s3://openaq-data-archive/records/csv.gz/locationid=8904/year=2024/month=01/location-8904-20240110.csv.gz to s3://sagemaker-us-east-1-768099485759/aai-final-project/openaq/month=01/location-8904-20240110.csv.gz\n",
      "copy: s3://openaq-data-archive/records/csv.gz/locationid=8904/year=2024/month=01/location-8904-20240123.csv.gz to s3://sagemaker-us-east-1-768099485759/aai-final-project/openaq/month=01/location-8904-20240123.csv.gz\n",
      "copy: s3://openaq-data-archive/records/csv.gz/locationid=8904/year=2024/month=01/location-8904-20240112.csv.gz to s3://sagemaker-us-east-1-768099485759/aai-final-project/openaq/month=01/location-8904-20240112.csv.gz\n",
      "copy: s3://openaq-data-archive/records/csv.gz/locationid=8904/year=2024/month=01/location-8904-20240113.csv.gz to s3://sagemaker-us-east-1-768099485759/aai-final-project/openaq/month=01/location-8904-20240113.csv.gz\n",
      "copy: s3://openaq-data-archive/records/csv.gz/locationid=8904/year=2024/month=01/location-8904-20240125.csv.gz to s3://sagemaker-us-east-1-768099485759/aai-final-project/openaq/month=01/location-8904-20240125.csv.gz\n",
      "copy: s3://openaq-data-archive/records/csv.gz/locationid=8904/year=2024/month=01/location-8904-20240126.csv.gz to s3://sagemaker-us-east-1-768099485759/aai-final-project/openaq/month=01/location-8904-20240126.csv.gz\n",
      "copy: s3://openaq-data-archive/records/csv.gz/locationid=8904/year=2024/month=01/location-8904-20240127.csv.gz to s3://sagemaker-us-east-1-768099485759/aai-final-project/openaq/month=01/location-8904-20240127.csv.gz\n",
      "copy: s3://openaq-data-archive/records/csv.gz/locationid=8904/year=2024/month=01/location-8904-20240124.csv.gz to s3://sagemaker-us-east-1-768099485759/aai-final-project/openaq/month=01/location-8904-20240124.csv.gz\n",
      "copy: s3://openaq-data-archive/records/csv.gz/locationid=8904/year=2024/month=01/location-8904-20240131.csv.gz to s3://sagemaker-us-east-1-768099485759/aai-final-project/openaq/month=01/location-8904-20240131.csv.gz\n",
      "copy: s3://openaq-data-archive/records/csv.gz/locationid=8904/year=2024/month=02/location-8904-20240202.csv.gz to s3://sagemaker-us-east-1-768099485759/aai-final-project/openaq/month=02/location-8904-20240202.csv.gz\n",
      "copy: s3://openaq-data-archive/records/csv.gz/locationid=8904/year=2024/month=01/location-8904-20240128.csv.gz to s3://sagemaker-us-east-1-768099485759/aai-final-project/openaq/month=01/location-8904-20240128.csv.gz\n",
      "copy: s3://openaq-data-archive/records/csv.gz/locationid=8904/year=2024/month=01/location-8904-20240130.csv.gz to s3://sagemaker-us-east-1-768099485759/aai-final-project/openaq/month=01/location-8904-20240130.csv.gz\n",
      "copy: s3://openaq-data-archive/records/csv.gz/locationid=8904/year=2024/month=02/location-8904-20240201.csv.gz to s3://sagemaker-us-east-1-768099485759/aai-final-project/openaq/month=02/location-8904-20240201.csv.gz\n",
      "copy: s3://openaq-data-archive/records/csv.gz/locationid=8904/year=2024/month=01/location-8904-20240129.csv.gz to s3://sagemaker-us-east-1-768099485759/aai-final-project/openaq/month=01/location-8904-20240129.csv.gz\n",
      "copy: s3://openaq-data-archive/records/csv.gz/locationid=8904/year=2024/month=02/location-8904-20240206.csv.gz to s3://sagemaker-us-east-1-768099485759/aai-final-project/openaq/month=02/location-8904-20240206.csv.gz\n",
      "copy: s3://openaq-data-archive/records/csv.gz/locationid=8904/year=2024/month=02/location-8904-20240204.csv.gz to s3://sagemaker-us-east-1-768099485759/aai-final-project/openaq/month=02/location-8904-20240204.csv.gz\n",
      "copy: s3://openaq-data-archive/records/csv.gz/locationid=8904/year=2024/month=02/location-8904-20240205.csv.gz to s3://sagemaker-us-east-1-768099485759/aai-final-project/openaq/month=02/location-8904-20240205.csv.gz\n",
      "copy: s3://openaq-data-archive/records/csv.gz/locationid=8904/year=2024/month=02/location-8904-20240203.csv.gz to s3://sagemaker-us-east-1-768099485759/aai-final-project/openaq/month=02/location-8904-20240203.csv.gz\n",
      "copy: s3://openaq-data-archive/records/csv.gz/locationid=8904/year=2024/month=02/location-8904-20240208.csv.gz to s3://sagemaker-us-east-1-768099485759/aai-final-project/openaq/month=02/location-8904-20240208.csv.gz\n",
      "copy: s3://openaq-data-archive/records/csv.gz/locationid=8904/year=2024/month=02/location-8904-20240214.csv.gz to s3://sagemaker-us-east-1-768099485759/aai-final-project/openaq/month=02/location-8904-20240214.csv.gz\n",
      "copy: s3://openaq-data-archive/records/csv.gz/locationid=8904/year=2024/month=02/location-8904-20240215.csv.gz to s3://sagemaker-us-east-1-768099485759/aai-final-project/openaq/month=02/location-8904-20240215.csv.gz\n",
      "copy: s3://openaq-data-archive/records/csv.gz/locationid=8904/year=2024/month=02/location-8904-20240211.csv.gz to s3://sagemaker-us-east-1-768099485759/aai-final-project/openaq/month=02/location-8904-20240211.csv.gz\n",
      "copy: s3://openaq-data-archive/records/csv.gz/locationid=8904/year=2024/month=02/location-8904-20240216.csv.gz to s3://sagemaker-us-east-1-768099485759/aai-final-project/openaq/month=02/location-8904-20240216.csv.gz\n",
      "copy: s3://openaq-data-archive/records/csv.gz/locationid=8904/year=2024/month=02/location-8904-20240209.csv.gz to s3://sagemaker-us-east-1-768099485759/aai-final-project/openaq/month=02/location-8904-20240209.csv.gz\n",
      "copy: s3://openaq-data-archive/records/csv.gz/locationid=8904/year=2024/month=02/location-8904-20240212.csv.gz to s3://sagemaker-us-east-1-768099485759/aai-final-project/openaq/month=02/location-8904-20240212.csv.gz\n",
      "copy: s3://openaq-data-archive/records/csv.gz/locationid=8904/year=2024/month=02/location-8904-20240207.csv.gz to s3://sagemaker-us-east-1-768099485759/aai-final-project/openaq/month=02/location-8904-20240207.csv.gz\n",
      "copy: s3://openaq-data-archive/records/csv.gz/locationid=8904/year=2024/month=02/location-8904-20240210.csv.gz to s3://sagemaker-us-east-1-768099485759/aai-final-project/openaq/month=02/location-8904-20240210.csv.gz\n",
      "copy: s3://openaq-data-archive/records/csv.gz/locationid=8904/year=2024/month=02/location-8904-20240213.csv.gz to s3://sagemaker-us-east-1-768099485759/aai-final-project/openaq/month=02/location-8904-20240213.csv.gz\n",
      "copy: s3://openaq-data-archive/records/csv.gz/locationid=8904/year=2024/month=02/location-8904-20240218.csv.gz to s3://sagemaker-us-east-1-768099485759/aai-final-project/openaq/month=02/location-8904-20240218.csv.gz\n",
      "copy: s3://openaq-data-archive/records/csv.gz/locationid=8904/year=2024/month=02/location-8904-20240221.csv.gz to s3://sagemaker-us-east-1-768099485759/aai-final-project/openaq/month=02/location-8904-20240221.csv.gz\n",
      "copy: s3://openaq-data-archive/records/csv.gz/locationid=8904/year=2024/month=02/location-8904-20240225.csv.gz to s3://sagemaker-us-east-1-768099485759/aai-final-project/openaq/month=02/location-8904-20240225.csv.gz\n",
      "copy: s3://openaq-data-archive/records/csv.gz/locationid=8904/year=2024/month=02/location-8904-20240223.csv.gz to s3://sagemaker-us-east-1-768099485759/aai-final-project/openaq/month=02/location-8904-20240223.csv.gz\n",
      "copy: s3://openaq-data-archive/records/csv.gz/locationid=8904/year=2024/month=02/location-8904-20240224.csv.gz to s3://sagemaker-us-east-1-768099485759/aai-final-project/openaq/month=02/location-8904-20240224.csv.gz\n",
      "copy: s3://openaq-data-archive/records/csv.gz/locationid=8904/year=2024/month=02/location-8904-20240217.csv.gz to s3://sagemaker-us-east-1-768099485759/aai-final-project/openaq/month=02/location-8904-20240217.csv.gz\n",
      "copy: s3://openaq-data-archive/records/csv.gz/locationid=8904/year=2024/month=02/location-8904-20240227.csv.gz to s3://sagemaker-us-east-1-768099485759/aai-final-project/openaq/month=02/location-8904-20240227.csv.gz\n",
      "copy: s3://openaq-data-archive/records/csv.gz/locationid=8904/year=2024/month=02/location-8904-20240222.csv.gz to s3://sagemaker-us-east-1-768099485759/aai-final-project/openaq/month=02/location-8904-20240222.csv.gz\n",
      "copy: s3://openaq-data-archive/records/csv.gz/locationid=8904/year=2024/month=02/location-8904-20240219.csv.gz to s3://sagemaker-us-east-1-768099485759/aai-final-project/openaq/month=02/location-8904-20240219.csv.gz\n",
      "copy: s3://openaq-data-archive/records/csv.gz/locationid=8904/year=2024/month=02/location-8904-20240220.csv.gz to s3://sagemaker-us-east-1-768099485759/aai-final-project/openaq/month=02/location-8904-20240220.csv.gz\n",
      "copy: s3://openaq-data-archive/records/csv.gz/locationid=8904/year=2024/month=02/location-8904-20240226.csv.gz to s3://sagemaker-us-east-1-768099485759/aai-final-project/openaq/month=02/location-8904-20240226.csv.gz\n",
      "copy: s3://openaq-data-archive/records/csv.gz/locationid=8904/year=2024/month=03/location-8904-20240301.csv.gz to s3://sagemaker-us-east-1-768099485759/aai-final-project/openaq/month=03/location-8904-20240301.csv.gz\n",
      "copy: s3://openaq-data-archive/records/csv.gz/locationid=8904/year=2024/month=02/location-8904-20240229.csv.gz to s3://sagemaker-us-east-1-768099485759/aai-final-project/openaq/month=02/location-8904-20240229.csv.gz\n",
      "copy: s3://openaq-data-archive/records/csv.gz/locationid=8904/year=2024/month=03/location-8904-20240305.csv.gz to s3://sagemaker-us-east-1-768099485759/aai-final-project/openaq/month=03/location-8904-20240305.csv.gz\n",
      "copy: s3://openaq-data-archive/records/csv.gz/locationid=8904/year=2024/month=03/location-8904-20240304.csv.gz to s3://sagemaker-us-east-1-768099485759/aai-final-project/openaq/month=03/location-8904-20240304.csv.gz\n",
      "copy: s3://openaq-data-archive/records/csv.gz/locationid=8904/year=2024/month=02/location-8904-20240228.csv.gz to s3://sagemaker-us-east-1-768099485759/aai-final-project/openaq/month=02/location-8904-20240228.csv.gz\n",
      "copy: s3://openaq-data-archive/records/csv.gz/locationid=8904/year=2024/month=03/location-8904-20240302.csv.gz to s3://sagemaker-us-east-1-768099485759/aai-final-project/openaq/month=03/location-8904-20240302.csv.gz\n",
      "copy: s3://openaq-data-archive/records/csv.gz/locationid=8904/year=2024/month=03/location-8904-20240306.csv.gz to s3://sagemaker-us-east-1-768099485759/aai-final-project/openaq/month=03/location-8904-20240306.csv.gz\n",
      "copy: s3://openaq-data-archive/records/csv.gz/locationid=8904/year=2024/month=03/location-8904-20240307.csv.gz to s3://sagemaker-us-east-1-768099485759/aai-final-project/openaq/month=03/location-8904-20240307.csv.gz\n",
      "copy: s3://openaq-data-archive/records/csv.gz/locationid=8904/year=2024/month=03/location-8904-20240303.csv.gz to s3://sagemaker-us-east-1-768099485759/aai-final-project/openaq/month=03/location-8904-20240303.csv.gz\n",
      "copy: s3://openaq-data-archive/records/csv.gz/locationid=8904/year=2024/month=03/location-8904-20240308.csv.gz to s3://sagemaker-us-east-1-768099485759/aai-final-project/openaq/month=03/location-8904-20240308.csv.gz\n",
      "copy: s3://openaq-data-archive/records/csv.gz/locationid=8904/year=2024/month=03/location-8904-20240309.csv.gz to s3://sagemaker-us-east-1-768099485759/aai-final-project/openaq/month=03/location-8904-20240309.csv.gz\n",
      "copy: s3://openaq-data-archive/records/csv.gz/locationid=8904/year=2024/month=03/location-8904-20240311.csv.gz to s3://sagemaker-us-east-1-768099485759/aai-final-project/openaq/month=03/location-8904-20240311.csv.gz\n",
      "copy: s3://openaq-data-archive/records/csv.gz/locationid=8904/year=2024/month=03/location-8904-20240310.csv.gz to s3://sagemaker-us-east-1-768099485759/aai-final-project/openaq/month=03/location-8904-20240310.csv.gz\n",
      "copy: s3://openaq-data-archive/records/csv.gz/locationid=8904/year=2024/month=03/location-8904-20240313.csv.gz to s3://sagemaker-us-east-1-768099485759/aai-final-project/openaq/month=03/location-8904-20240313.csv.gz\n",
      "copy: s3://openaq-data-archive/records/csv.gz/locationid=8904/year=2024/month=03/location-8904-20240316.csv.gz to s3://sagemaker-us-east-1-768099485759/aai-final-project/openaq/month=03/location-8904-20240316.csv.gz\n",
      "copy: s3://openaq-data-archive/records/csv.gz/locationid=8904/year=2024/month=03/location-8904-20240317.csv.gz to s3://sagemaker-us-east-1-768099485759/aai-final-project/openaq/month=03/location-8904-20240317.csv.gz\n",
      "copy: s3://openaq-data-archive/records/csv.gz/locationid=8904/year=2024/month=03/location-8904-20240315.csv.gz to s3://sagemaker-us-east-1-768099485759/aai-final-project/openaq/month=03/location-8904-20240315.csv.gz\n",
      "copy: s3://openaq-data-archive/records/csv.gz/locationid=8904/year=2024/month=03/location-8904-20240314.csv.gz to s3://sagemaker-us-east-1-768099485759/aai-final-project/openaq/month=03/location-8904-20240314.csv.gz\n",
      "copy: s3://openaq-data-archive/records/csv.gz/locationid=8904/year=2024/month=03/location-8904-20240320.csv.gz to s3://sagemaker-us-east-1-768099485759/aai-final-project/openaq/month=03/location-8904-20240320.csv.gz\n",
      "copy: s3://openaq-data-archive/records/csv.gz/locationid=8904/year=2024/month=03/location-8904-20240312.csv.gz to s3://sagemaker-us-east-1-768099485759/aai-final-project/openaq/month=03/location-8904-20240312.csv.gz\n",
      "copy: s3://openaq-data-archive/records/csv.gz/locationid=8904/year=2024/month=03/location-8904-20240319.csv.gz to s3://sagemaker-us-east-1-768099485759/aai-final-project/openaq/month=03/location-8904-20240319.csv.gz\n",
      "copy: s3://openaq-data-archive/records/csv.gz/locationid=8904/year=2024/month=03/location-8904-20240318.csv.gz to s3://sagemaker-us-east-1-768099485759/aai-final-project/openaq/month=03/location-8904-20240318.csv.gz\n",
      "copy: s3://openaq-data-archive/records/csv.gz/locationid=8904/year=2024/month=03/location-8904-20240321.csv.gz to s3://sagemaker-us-east-1-768099485759/aai-final-project/openaq/month=03/location-8904-20240321.csv.gz\n",
      "copy: s3://openaq-data-archive/records/csv.gz/locationid=8904/year=2024/month=03/location-8904-20240322.csv.gz to s3://sagemaker-us-east-1-768099485759/aai-final-project/openaq/month=03/location-8904-20240322.csv.gz\n",
      "copy: s3://openaq-data-archive/records/csv.gz/locationid=8904/year=2024/month=03/location-8904-20240323.csv.gz to s3://sagemaker-us-east-1-768099485759/aai-final-project/openaq/month=03/location-8904-20240323.csv.gz\n",
      "copy: s3://openaq-data-archive/records/csv.gz/locationid=8904/year=2024/month=03/location-8904-20240326.csv.gz to s3://sagemaker-us-east-1-768099485759/aai-final-project/openaq/month=03/location-8904-20240326.csv.gz\n",
      "copy: s3://openaq-data-archive/records/csv.gz/locationid=8904/year=2024/month=03/location-8904-20240325.csv.gz to s3://sagemaker-us-east-1-768099485759/aai-final-project/openaq/month=03/location-8904-20240325.csv.gz\n",
      "copy: s3://openaq-data-archive/records/csv.gz/locationid=8904/year=2024/month=03/location-8904-20240324.csv.gz to s3://sagemaker-us-east-1-768099485759/aai-final-project/openaq/month=03/location-8904-20240324.csv.gz\n",
      "copy: s3://openaq-data-archive/records/csv.gz/locationid=8904/year=2024/month=03/location-8904-20240330.csv.gz to s3://sagemaker-us-east-1-768099485759/aai-final-project/openaq/month=03/location-8904-20240330.csv.gz\n",
      "copy: s3://openaq-data-archive/records/csv.gz/locationid=8904/year=2024/month=03/location-8904-20240328.csv.gz to s3://sagemaker-us-east-1-768099485759/aai-final-project/openaq/month=03/location-8904-20240328.csv.gz\n",
      "copy: s3://openaq-data-archive/records/csv.gz/locationid=8904/year=2024/month=03/location-8904-20240327.csv.gz to s3://sagemaker-us-east-1-768099485759/aai-final-project/openaq/month=03/location-8904-20240327.csv.gz\n",
      "copy: s3://openaq-data-archive/records/csv.gz/locationid=8904/year=2024/month=04/location-8904-20240402.csv.gz to s3://sagemaker-us-east-1-768099485759/aai-final-project/openaq/month=04/location-8904-20240402.csv.gz\n",
      "copy: s3://openaq-data-archive/records/csv.gz/locationid=8904/year=2024/month=04/location-8904-20240401.csv.gz to s3://sagemaker-us-east-1-768099485759/aai-final-project/openaq/month=04/location-8904-20240401.csv.gz\n",
      "copy: s3://openaq-data-archive/records/csv.gz/locationid=8904/year=2024/month=04/location-8904-20240403.csv.gz to s3://sagemaker-us-east-1-768099485759/aai-final-project/openaq/month=04/location-8904-20240403.csv.gz\n",
      "copy: s3://openaq-data-archive/records/csv.gz/locationid=8904/year=2024/month=03/location-8904-20240331.csv.gz to s3://sagemaker-us-east-1-768099485759/aai-final-project/openaq/month=03/location-8904-20240331.csv.gz\n",
      "copy: s3://openaq-data-archive/records/csv.gz/locationid=8904/year=2024/month=03/location-8904-20240329.csv.gz to s3://sagemaker-us-east-1-768099485759/aai-final-project/openaq/month=03/location-8904-20240329.csv.gz\n",
      "copy: s3://openaq-data-archive/records/csv.gz/locationid=8904/year=2024/month=04/location-8904-20240406.csv.gz to s3://sagemaker-us-east-1-768099485759/aai-final-project/openaq/month=04/location-8904-20240406.csv.gz\n",
      "copy: s3://openaq-data-archive/records/csv.gz/locationid=8904/year=2024/month=04/location-8904-20240405.csv.gz to s3://sagemaker-us-east-1-768099485759/aai-final-project/openaq/month=04/location-8904-20240405.csv.gz\n",
      "copy: s3://openaq-data-archive/records/csv.gz/locationid=8904/year=2024/month=04/location-8904-20240407.csv.gz to s3://sagemaker-us-east-1-768099485759/aai-final-project/openaq/month=04/location-8904-20240407.csv.gz\n",
      "copy: s3://openaq-data-archive/records/csv.gz/locationid=8904/year=2024/month=04/location-8904-20240410.csv.gz to s3://sagemaker-us-east-1-768099485759/aai-final-project/openaq/month=04/location-8904-20240410.csv.gz\n",
      "copy: s3://openaq-data-archive/records/csv.gz/locationid=8904/year=2024/month=04/location-8904-20240408.csv.gz to s3://sagemaker-us-east-1-768099485759/aai-final-project/openaq/month=04/location-8904-20240408.csv.gz\n",
      "copy: s3://openaq-data-archive/records/csv.gz/locationid=8904/year=2024/month=04/location-8904-20240409.csv.gz to s3://sagemaker-us-east-1-768099485759/aai-final-project/openaq/month=04/location-8904-20240409.csv.gz\n",
      "copy: s3://openaq-data-archive/records/csv.gz/locationid=8904/year=2024/month=04/location-8904-20240404.csv.gz to s3://sagemaker-us-east-1-768099485759/aai-final-project/openaq/month=04/location-8904-20240404.csv.gz\n",
      "copy: s3://openaq-data-archive/records/csv.gz/locationid=8904/year=2024/month=04/location-8904-20240413.csv.gz to s3://sagemaker-us-east-1-768099485759/aai-final-project/openaq/month=04/location-8904-20240413.csv.gz\n",
      "copy: s3://openaq-data-archive/records/csv.gz/locationid=8904/year=2024/month=04/location-8904-20240412.csv.gz to s3://sagemaker-us-east-1-768099485759/aai-final-project/openaq/month=04/location-8904-20240412.csv.gz\n",
      "copy: s3://openaq-data-archive/records/csv.gz/locationid=8904/year=2024/month=04/location-8904-20240411.csv.gz to s3://sagemaker-us-east-1-768099485759/aai-final-project/openaq/month=04/location-8904-20240411.csv.gz\n",
      "copy: s3://openaq-data-archive/records/csv.gz/locationid=8904/year=2024/month=04/location-8904-20240415.csv.gz to s3://sagemaker-us-east-1-768099485759/aai-final-project/openaq/month=04/location-8904-20240415.csv.gz\n",
      "copy: s3://openaq-data-archive/records/csv.gz/locationid=8904/year=2024/month=04/location-8904-20240418.csv.gz to s3://sagemaker-us-east-1-768099485759/aai-final-project/openaq/month=04/location-8904-20240418.csv.gz\n",
      "copy: s3://openaq-data-archive/records/csv.gz/locationid=8904/year=2024/month=04/location-8904-20240414.csv.gz to s3://sagemaker-us-east-1-768099485759/aai-final-project/openaq/month=04/location-8904-20240414.csv.gz\n",
      "copy: s3://openaq-data-archive/records/csv.gz/locationid=8904/year=2024/month=04/location-8904-20240417.csv.gz to s3://sagemaker-us-east-1-768099485759/aai-final-project/openaq/month=04/location-8904-20240417.csv.gz\n",
      "copy: s3://openaq-data-archive/records/csv.gz/locationid=8904/year=2024/month=04/location-8904-20240416.csv.gz to s3://sagemaker-us-east-1-768099485759/aai-final-project/openaq/month=04/location-8904-20240416.csv.gz\n",
      "copy: s3://openaq-data-archive/records/csv.gz/locationid=8904/year=2024/month=04/location-8904-20240420.csv.gz to s3://sagemaker-us-east-1-768099485759/aai-final-project/openaq/month=04/location-8904-20240420.csv.gz\n",
      "copy: s3://openaq-data-archive/records/csv.gz/locationid=8904/year=2024/month=04/location-8904-20240427.csv.gz to s3://sagemaker-us-east-1-768099485759/aai-final-project/openaq/month=04/location-8904-20240427.csv.gz\n",
      "copy: s3://openaq-data-archive/records/csv.gz/locationid=8904/year=2024/month=04/location-8904-20240421.csv.gz to s3://sagemaker-us-east-1-768099485759/aai-final-project/openaq/month=04/location-8904-20240421.csv.gz\n",
      "copy: s3://openaq-data-archive/records/csv.gz/locationid=8904/year=2024/month=04/location-8904-20240428.csv.gz to s3://sagemaker-us-east-1-768099485759/aai-final-project/openaq/month=04/location-8904-20240428.csv.gz\n",
      "copy: s3://openaq-data-archive/records/csv.gz/locationid=8904/year=2024/month=04/location-8904-20240423.csv.gz to s3://sagemaker-us-east-1-768099485759/aai-final-project/openaq/month=04/location-8904-20240423.csv.gz\n",
      "copy: s3://openaq-data-archive/records/csv.gz/locationid=8904/year=2024/month=04/location-8904-20240425.csv.gz to s3://sagemaker-us-east-1-768099485759/aai-final-project/openaq/month=04/location-8904-20240425.csv.gz\n",
      "copy: s3://openaq-data-archive/records/csv.gz/locationid=8904/year=2024/month=04/location-8904-20240419.csv.gz to s3://sagemaker-us-east-1-768099485759/aai-final-project/openaq/month=04/location-8904-20240419.csv.gz\n",
      "copy: s3://openaq-data-archive/records/csv.gz/locationid=8904/year=2024/month=04/location-8904-20240422.csv.gz to s3://sagemaker-us-east-1-768099485759/aai-final-project/openaq/month=04/location-8904-20240422.csv.gz\n",
      "copy: s3://openaq-data-archive/records/csv.gz/locationid=8904/year=2024/month=04/location-8904-20240426.csv.gz to s3://sagemaker-us-east-1-768099485759/aai-final-project/openaq/month=04/location-8904-20240426.csv.gz\n",
      "copy: s3://openaq-data-archive/records/csv.gz/locationid=8904/year=2024/month=05/location-8904-20240504.csv.gz to s3://sagemaker-us-east-1-768099485759/aai-final-project/openaq/month=05/location-8904-20240504.csv.gz\n",
      "copy: s3://openaq-data-archive/records/csv.gz/locationid=8904/year=2024/month=05/location-8904-20240506.csv.gz to s3://sagemaker-us-east-1-768099485759/aai-final-project/openaq/month=05/location-8904-20240506.csv.gz\n",
      "copy: s3://openaq-data-archive/records/csv.gz/locationid=8904/year=2024/month=05/location-8904-20240503.csv.gz to s3://sagemaker-us-east-1-768099485759/aai-final-project/openaq/month=05/location-8904-20240503.csv.gz\n",
      "copy: s3://openaq-data-archive/records/csv.gz/locationid=8904/year=2024/month=05/location-8904-20240505.csv.gz to s3://sagemaker-us-east-1-768099485759/aai-final-project/openaq/month=05/location-8904-20240505.csv.gz\n",
      "copy: s3://openaq-data-archive/records/csv.gz/locationid=8904/year=2024/month=04/location-8904-20240424.csv.gz to s3://sagemaker-us-east-1-768099485759/aai-final-project/openaq/month=04/location-8904-20240424.csv.gz\n",
      "copy: s3://openaq-data-archive/records/csv.gz/locationid=8904/year=2024/month=05/location-8904-20240510.csv.gz to s3://sagemaker-us-east-1-768099485759/aai-final-project/openaq/month=05/location-8904-20240510.csv.gz\n",
      "copy: s3://openaq-data-archive/records/csv.gz/locationid=8904/year=2024/month=05/location-8904-20240509.csv.gz to s3://sagemaker-us-east-1-768099485759/aai-final-project/openaq/month=05/location-8904-20240509.csv.gz\n",
      "copy: s3://openaq-data-archive/records/csv.gz/locationid=8904/year=2024/month=05/location-8904-20240508.csv.gz to s3://sagemaker-us-east-1-768099485759/aai-final-project/openaq/month=05/location-8904-20240508.csv.gz\n",
      "copy: s3://openaq-data-archive/records/csv.gz/locationid=8904/year=2024/month=05/location-8904-20240507.csv.gz to s3://sagemaker-us-east-1-768099485759/aai-final-project/openaq/month=05/location-8904-20240507.csv.gz\n",
      "copy: s3://openaq-data-archive/records/csv.gz/locationid=8904/year=2024/month=05/location-8904-20240513.csv.gz to s3://sagemaker-us-east-1-768099485759/aai-final-project/openaq/month=05/location-8904-20240513.csv.gz\n",
      "copy: s3://openaq-data-archive/records/csv.gz/locationid=8904/year=2024/month=04/location-8904-20240429.csv.gz to s3://sagemaker-us-east-1-768099485759/aai-final-project/openaq/month=04/location-8904-20240429.csv.gz\n",
      "copy: s3://openaq-data-archive/records/csv.gz/locationid=8904/year=2024/month=05/location-8904-20240514.csv.gz to s3://sagemaker-us-east-1-768099485759/aai-final-project/openaq/month=05/location-8904-20240514.csv.gz\n",
      "copy: s3://openaq-data-archive/records/csv.gz/locationid=8904/year=2024/month=05/location-8904-20240511.csv.gz to s3://sagemaker-us-east-1-768099485759/aai-final-project/openaq/month=05/location-8904-20240511.csv.gz\n",
      "copy: s3://openaq-data-archive/records/csv.gz/locationid=8904/year=2024/month=05/location-8904-20240502.csv.gz to s3://sagemaker-us-east-1-768099485759/aai-final-project/openaq/month=05/location-8904-20240502.csv.gz\n",
      "copy: s3://openaq-data-archive/records/csv.gz/locationid=8904/year=2024/month=05/location-8904-20240512.csv.gz to s3://sagemaker-us-east-1-768099485759/aai-final-project/openaq/month=05/location-8904-20240512.csv.gz\n",
      "copy: s3://openaq-data-archive/records/csv.gz/locationid=8904/year=2024/month=04/location-8904-20240430.csv.gz to s3://sagemaker-us-east-1-768099485759/aai-final-project/openaq/month=04/location-8904-20240430.csv.gz\n",
      "copy: s3://openaq-data-archive/records/csv.gz/locationid=8904/year=2024/month=05/location-8904-20240501.csv.gz to s3://sagemaker-us-east-1-768099485759/aai-final-project/openaq/month=05/location-8904-20240501.csv.gz\n",
      "copy: s3://openaq-data-archive/records/csv.gz/locationid=8904/year=2024/month=05/location-8904-20240515.csv.gz to s3://sagemaker-us-east-1-768099485759/aai-final-project/openaq/month=05/location-8904-20240515.csv.gz\n",
      "copy: s3://openaq-data-archive/records/csv.gz/locationid=8904/year=2024/month=05/location-8904-20240516.csv.gz to s3://sagemaker-us-east-1-768099485759/aai-final-project/openaq/month=05/location-8904-20240516.csv.gz\n",
      "copy: s3://openaq-data-archive/records/csv.gz/locationid=8904/year=2024/month=05/location-8904-20240520.csv.gz to s3://sagemaker-us-east-1-768099485759/aai-final-project/openaq/month=05/location-8904-20240520.csv.gz\n",
      "copy: s3://openaq-data-archive/records/csv.gz/locationid=8904/year=2024/month=05/location-8904-20240517.csv.gz to s3://sagemaker-us-east-1-768099485759/aai-final-project/openaq/month=05/location-8904-20240517.csv.gz\n",
      "copy: s3://openaq-data-archive/records/csv.gz/locationid=8904/year=2024/month=05/location-8904-20240518.csv.gz to s3://sagemaker-us-east-1-768099485759/aai-final-project/openaq/month=05/location-8904-20240518.csv.gz\n",
      "copy: s3://openaq-data-archive/records/csv.gz/locationid=8904/year=2024/month=05/location-8904-20240521.csv.gz to s3://sagemaker-us-east-1-768099485759/aai-final-project/openaq/month=05/location-8904-20240521.csv.gz\n",
      "copy: s3://openaq-data-archive/records/csv.gz/locationid=8904/year=2024/month=05/location-8904-20240519.csv.gz to s3://sagemaker-us-east-1-768099485759/aai-final-project/openaq/month=05/location-8904-20240519.csv.gz\n",
      "copy: s3://openaq-data-archive/records/csv.gz/locationid=8904/year=2024/month=05/location-8904-20240523.csv.gz to s3://sagemaker-us-east-1-768099485759/aai-final-project/openaq/month=05/location-8904-20240523.csv.gz\n",
      "copy: s3://openaq-data-archive/records/csv.gz/locationid=8904/year=2024/month=05/location-8904-20240522.csv.gz to s3://sagemaker-us-east-1-768099485759/aai-final-project/openaq/month=05/location-8904-20240522.csv.gz\n",
      "copy: s3://openaq-data-archive/records/csv.gz/locationid=8904/year=2024/month=05/location-8904-20240527.csv.gz to s3://sagemaker-us-east-1-768099485759/aai-final-project/openaq/month=05/location-8904-20240527.csv.gz\n",
      "copy: s3://openaq-data-archive/records/csv.gz/locationid=8904/year=2024/month=05/location-8904-20240525.csv.gz to s3://sagemaker-us-east-1-768099485759/aai-final-project/openaq/month=05/location-8904-20240525.csv.gz\n",
      "copy: s3://openaq-data-archive/records/csv.gz/locationid=8904/year=2024/month=05/location-8904-20240529.csv.gz to s3://sagemaker-us-east-1-768099485759/aai-final-project/openaq/month=05/location-8904-20240529.csv.gz\n",
      "copy: s3://openaq-data-archive/records/csv.gz/locationid=8904/year=2024/month=05/location-8904-20240530.csv.gz to s3://sagemaker-us-east-1-768099485759/aai-final-project/openaq/month=05/location-8904-20240530.csv.gz\n",
      "copy: s3://openaq-data-archive/records/csv.gz/locationid=8904/year=2024/month=05/location-8904-20240524.csv.gz to s3://sagemaker-us-east-1-768099485759/aai-final-project/openaq/month=05/location-8904-20240524.csv.gz\n",
      "copy: s3://openaq-data-archive/records/csv.gz/locationid=8904/year=2024/month=05/location-8904-20240528.csv.gz to s3://sagemaker-us-east-1-768099485759/aai-final-project/openaq/month=05/location-8904-20240528.csv.gz\n",
      "copy: s3://openaq-data-archive/records/csv.gz/locationid=8904/year=2024/month=06/location-8904-20240602.csv.gz to s3://sagemaker-us-east-1-768099485759/aai-final-project/openaq/month=06/location-8904-20240602.csv.gz\n",
      "copy: s3://openaq-data-archive/records/csv.gz/locationid=8904/year=2024/month=05/location-8904-20240531.csv.gz to s3://sagemaker-us-east-1-768099485759/aai-final-project/openaq/month=05/location-8904-20240531.csv.gz\n",
      "copy: s3://openaq-data-archive/records/csv.gz/locationid=8904/year=2024/month=06/location-8904-20240603.csv.gz to s3://sagemaker-us-east-1-768099485759/aai-final-project/openaq/month=06/location-8904-20240603.csv.gz\n",
      "copy: s3://openaq-data-archive/records/csv.gz/locationid=8904/year=2024/month=05/location-8904-20240526.csv.gz to s3://sagemaker-us-east-1-768099485759/aai-final-project/openaq/month=05/location-8904-20240526.csv.gz\n",
      "copy: s3://openaq-data-archive/records/csv.gz/locationid=8904/year=2024/month=06/location-8904-20240605.csv.gz to s3://sagemaker-us-east-1-768099485759/aai-final-project/openaq/month=06/location-8904-20240605.csv.gz\n",
      "copy: s3://openaq-data-archive/records/csv.gz/locationid=8904/year=2024/month=06/location-8904-20240601.csv.gz to s3://sagemaker-us-east-1-768099485759/aai-final-project/openaq/month=06/location-8904-20240601.csv.gz\n",
      "copy: s3://openaq-data-archive/records/csv.gz/locationid=8904/year=2024/month=06/location-8904-20240606.csv.gz to s3://sagemaker-us-east-1-768099485759/aai-final-project/openaq/month=06/location-8904-20240606.csv.gz\n",
      "copy: s3://openaq-data-archive/records/csv.gz/locationid=8904/year=2024/month=06/location-8904-20240608.csv.gz to s3://sagemaker-us-east-1-768099485759/aai-final-project/openaq/month=06/location-8904-20240608.csv.gz\n",
      "copy: s3://openaq-data-archive/records/csv.gz/locationid=8904/year=2024/month=06/location-8904-20240604.csv.gz to s3://sagemaker-us-east-1-768099485759/aai-final-project/openaq/month=06/location-8904-20240604.csv.gz\n",
      "copy: s3://openaq-data-archive/records/csv.gz/locationid=8904/year=2024/month=06/location-8904-20240609.csv.gz to s3://sagemaker-us-east-1-768099485759/aai-final-project/openaq/month=06/location-8904-20240609.csv.gz\n",
      "copy: s3://openaq-data-archive/records/csv.gz/locationid=8904/year=2024/month=06/location-8904-20240607.csv.gz to s3://sagemaker-us-east-1-768099485759/aai-final-project/openaq/month=06/location-8904-20240607.csv.gz\n",
      "copy: s3://openaq-data-archive/records/csv.gz/locationid=8904/year=2024/month=06/location-8904-20240611.csv.gz to s3://sagemaker-us-east-1-768099485759/aai-final-project/openaq/month=06/location-8904-20240611.csv.gz\n",
      "copy: s3://openaq-data-archive/records/csv.gz/locationid=8904/year=2024/month=06/location-8904-20240612.csv.gz to s3://sagemaker-us-east-1-768099485759/aai-final-project/openaq/month=06/location-8904-20240612.csv.gz\n",
      "copy: s3://openaq-data-archive/records/csv.gz/locationid=8904/year=2024/month=06/location-8904-20240610.csv.gz to s3://sagemaker-us-east-1-768099485759/aai-final-project/openaq/month=06/location-8904-20240610.csv.gz\n",
      "copy: s3://openaq-data-archive/records/csv.gz/locationid=8904/year=2024/month=06/location-8904-20240614.csv.gz to s3://sagemaker-us-east-1-768099485759/aai-final-project/openaq/month=06/location-8904-20240614.csv.gz\n",
      "copy: s3://openaq-data-archive/records/csv.gz/locationid=8904/year=2024/month=06/location-8904-20240615.csv.gz to s3://sagemaker-us-east-1-768099485759/aai-final-project/openaq/month=06/location-8904-20240615.csv.gz\n",
      "copy: s3://openaq-data-archive/records/csv.gz/locationid=8904/year=2024/month=06/location-8904-20240613.csv.gz to s3://sagemaker-us-east-1-768099485759/aai-final-project/openaq/month=06/location-8904-20240613.csv.gz\n",
      "copy: s3://openaq-data-archive/records/csv.gz/locationid=8904/year=2024/month=06/location-8904-20240617.csv.gz to s3://sagemaker-us-east-1-768099485759/aai-final-project/openaq/month=06/location-8904-20240617.csv.gz\n",
      "copy: s3://openaq-data-archive/records/csv.gz/locationid=8904/year=2024/month=06/location-8904-20240618.csv.gz to s3://sagemaker-us-east-1-768099485759/aai-final-project/openaq/month=06/location-8904-20240618.csv.gz\n",
      "copy: s3://openaq-data-archive/records/csv.gz/locationid=8904/year=2024/month=06/location-8904-20240622.csv.gz to s3://sagemaker-us-east-1-768099485759/aai-final-project/openaq/month=06/location-8904-20240622.csv.gz\n",
      "copy: s3://openaq-data-archive/records/csv.gz/locationid=8904/year=2024/month=06/location-8904-20240619.csv.gz to s3://sagemaker-us-east-1-768099485759/aai-final-project/openaq/month=06/location-8904-20240619.csv.gz\n",
      "copy: s3://openaq-data-archive/records/csv.gz/locationid=8904/year=2024/month=06/location-8904-20240621.csv.gz to s3://sagemaker-us-east-1-768099485759/aai-final-project/openaq/month=06/location-8904-20240621.csv.gz\n",
      "copy: s3://openaq-data-archive/records/csv.gz/locationid=8904/year=2024/month=06/location-8904-20240616.csv.gz to s3://sagemaker-us-east-1-768099485759/aai-final-project/openaq/month=06/location-8904-20240616.csv.gz\n",
      "copy: s3://openaq-data-archive/records/csv.gz/locationid=8904/year=2024/month=06/location-8904-20240623.csv.gz to s3://sagemaker-us-east-1-768099485759/aai-final-project/openaq/month=06/location-8904-20240623.csv.gz\n",
      "copy: s3://openaq-data-archive/records/csv.gz/locationid=8904/year=2024/month=06/location-8904-20240620.csv.gz to s3://sagemaker-us-east-1-768099485759/aai-final-project/openaq/month=06/location-8904-20240620.csv.gz\n",
      "copy: s3://openaq-data-archive/records/csv.gz/locationid=8904/year=2024/month=06/location-8904-20240626.csv.gz to s3://sagemaker-us-east-1-768099485759/aai-final-project/openaq/month=06/location-8904-20240626.csv.gz\n",
      "copy: s3://openaq-data-archive/records/csv.gz/locationid=8904/year=2024/month=06/location-8904-20240627.csv.gz to s3://sagemaker-us-east-1-768099485759/aai-final-project/openaq/month=06/location-8904-20240627.csv.gz\n",
      "copy: s3://openaq-data-archive/records/csv.gz/locationid=8904/year=2024/month=06/location-8904-20240624.csv.gz to s3://sagemaker-us-east-1-768099485759/aai-final-project/openaq/month=06/location-8904-20240624.csv.gz\n",
      "copy: s3://openaq-data-archive/records/csv.gz/locationid=8904/year=2024/month=06/location-8904-20240625.csv.gz to s3://sagemaker-us-east-1-768099485759/aai-final-project/openaq/month=06/location-8904-20240625.csv.gz\n",
      "copy: s3://openaq-data-archive/records/csv.gz/locationid=8904/year=2024/month=06/location-8904-20240630.csv.gz to s3://sagemaker-us-east-1-768099485759/aai-final-project/openaq/month=06/location-8904-20240630.csv.gz\n",
      "copy: s3://openaq-data-archive/records/csv.gz/locationid=8904/year=2024/month=06/location-8904-20240628.csv.gz to s3://sagemaker-us-east-1-768099485759/aai-final-project/openaq/month=06/location-8904-20240628.csv.gz\n",
      "copy: s3://openaq-data-archive/records/csv.gz/locationid=8904/year=2024/month=07/location-8904-20240702.csv.gz to s3://sagemaker-us-east-1-768099485759/aai-final-project/openaq/month=07/location-8904-20240702.csv.gz\n",
      "copy: s3://openaq-data-archive/records/csv.gz/locationid=8904/year=2024/month=07/location-8904-20240704.csv.gz to s3://sagemaker-us-east-1-768099485759/aai-final-project/openaq/month=07/location-8904-20240704.csv.gz\n",
      "copy: s3://openaq-data-archive/records/csv.gz/locationid=8904/year=2024/month=07/location-8904-20240703.csv.gz to s3://sagemaker-us-east-1-768099485759/aai-final-project/openaq/month=07/location-8904-20240703.csv.gz\n",
      "copy: s3://openaq-data-archive/records/csv.gz/locationid=8904/year=2024/month=06/location-8904-20240629.csv.gz to s3://sagemaker-us-east-1-768099485759/aai-final-project/openaq/month=06/location-8904-20240629.csv.gz\n",
      "copy: s3://openaq-data-archive/records/csv.gz/locationid=8904/year=2024/month=07/location-8904-20240701.csv.gz to s3://sagemaker-us-east-1-768099485759/aai-final-project/openaq/month=07/location-8904-20240701.csv.gz\n",
      "copy: s3://openaq-data-archive/records/csv.gz/locationid=8904/year=2024/month=07/location-8904-20240708.csv.gz to s3://sagemaker-us-east-1-768099485759/aai-final-project/openaq/month=07/location-8904-20240708.csv.gz\n",
      "copy: s3://openaq-data-archive/records/csv.gz/locationid=8904/year=2024/month=07/location-8904-20240705.csv.gz to s3://sagemaker-us-east-1-768099485759/aai-final-project/openaq/month=07/location-8904-20240705.csv.gz\n",
      "copy: s3://openaq-data-archive/records/csv.gz/locationid=8904/year=2024/month=07/location-8904-20240709.csv.gz to s3://sagemaker-us-east-1-768099485759/aai-final-project/openaq/month=07/location-8904-20240709.csv.gz\n",
      "copy: s3://openaq-data-archive/records/csv.gz/locationid=8904/year=2024/month=07/location-8904-20240711.csv.gz to s3://sagemaker-us-east-1-768099485759/aai-final-project/openaq/month=07/location-8904-20240711.csv.gz\n",
      "copy: s3://openaq-data-archive/records/csv.gz/locationid=8904/year=2024/month=07/location-8904-20240710.csv.gz to s3://sagemaker-us-east-1-768099485759/aai-final-project/openaq/month=07/location-8904-20240710.csv.gz\n",
      "copy: s3://openaq-data-archive/records/csv.gz/locationid=8904/year=2024/month=07/location-8904-20240712.csv.gz to s3://sagemaker-us-east-1-768099485759/aai-final-project/openaq/month=07/location-8904-20240712.csv.gz\n",
      "copy: s3://openaq-data-archive/records/csv.gz/locationid=8904/year=2024/month=07/location-8904-20240706.csv.gz to s3://sagemaker-us-east-1-768099485759/aai-final-project/openaq/month=07/location-8904-20240706.csv.gz\n",
      "copy: s3://openaq-data-archive/records/csv.gz/locationid=8904/year=2024/month=07/location-8904-20240715.csv.gz to s3://sagemaker-us-east-1-768099485759/aai-final-project/openaq/month=07/location-8904-20240715.csv.gz\n",
      "copy: s3://openaq-data-archive/records/csv.gz/locationid=8904/year=2024/month=07/location-8904-20240713.csv.gz to s3://sagemaker-us-east-1-768099485759/aai-final-project/openaq/month=07/location-8904-20240713.csv.gz\n",
      "copy: s3://openaq-data-archive/records/csv.gz/locationid=8904/year=2024/month=07/location-8904-20240707.csv.gz to s3://sagemaker-us-east-1-768099485759/aai-final-project/openaq/month=07/location-8904-20240707.csv.gz\n",
      "copy: s3://openaq-data-archive/records/csv.gz/locationid=8904/year=2024/month=07/location-8904-20240716.csv.gz to s3://sagemaker-us-east-1-768099485759/aai-final-project/openaq/month=07/location-8904-20240716.csv.gz\n",
      "copy: s3://openaq-data-archive/records/csv.gz/locationid=8904/year=2024/month=07/location-8904-20240718.csv.gz to s3://sagemaker-us-east-1-768099485759/aai-final-project/openaq/month=07/location-8904-20240718.csv.gz\n",
      "copy: s3://openaq-data-archive/records/csv.gz/locationid=8904/year=2024/month=07/location-8904-20240719.csv.gz to s3://sagemaker-us-east-1-768099485759/aai-final-project/openaq/month=07/location-8904-20240719.csv.gz\n",
      "copy: s3://openaq-data-archive/records/csv.gz/locationid=8904/year=2024/month=07/location-8904-20240714.csv.gz to s3://sagemaker-us-east-1-768099485759/aai-final-project/openaq/month=07/location-8904-20240714.csv.gz\n",
      "copy: s3://openaq-data-archive/records/csv.gz/locationid=8904/year=2024/month=07/location-8904-20240721.csv.gz to s3://sagemaker-us-east-1-768099485759/aai-final-project/openaq/month=07/location-8904-20240721.csv.gz\n",
      "copy: s3://openaq-data-archive/records/csv.gz/locationid=8904/year=2024/month=07/location-8904-20240717.csv.gz to s3://sagemaker-us-east-1-768099485759/aai-final-project/openaq/month=07/location-8904-20240717.csv.gz\n",
      "copy: s3://openaq-data-archive/records/csv.gz/locationid=8904/year=2024/month=07/location-8904-20240720.csv.gz to s3://sagemaker-us-east-1-768099485759/aai-final-project/openaq/month=07/location-8904-20240720.csv.gz\n",
      "copy: s3://openaq-data-archive/records/csv.gz/locationid=8904/year=2024/month=07/location-8904-20240726.csv.gz to s3://sagemaker-us-east-1-768099485759/aai-final-project/openaq/month=07/location-8904-20240726.csv.gz\n",
      "copy: s3://openaq-data-archive/records/csv.gz/locationid=8904/year=2024/month=07/location-8904-20240725.csv.gz to s3://sagemaker-us-east-1-768099485759/aai-final-project/openaq/month=07/location-8904-20240725.csv.gz\n",
      "copy: s3://openaq-data-archive/records/csv.gz/locationid=8904/year=2024/month=07/location-8904-20240723.csv.gz to s3://sagemaker-us-east-1-768099485759/aai-final-project/openaq/month=07/location-8904-20240723.csv.gz\n",
      "copy: s3://openaq-data-archive/records/csv.gz/locationid=8904/year=2024/month=07/location-8904-20240722.csv.gz to s3://sagemaker-us-east-1-768099485759/aai-final-project/openaq/month=07/location-8904-20240722.csv.gz\n",
      "copy: s3://openaq-data-archive/records/csv.gz/locationid=8904/year=2024/month=07/location-8904-20240729.csv.gz to s3://sagemaker-us-east-1-768099485759/aai-final-project/openaq/month=07/location-8904-20240729.csv.gz\n",
      "copy: s3://openaq-data-archive/records/csv.gz/locationid=8904/year=2024/month=07/location-8904-20240724.csv.gz to s3://sagemaker-us-east-1-768099485759/aai-final-project/openaq/month=07/location-8904-20240724.csv.gz\n",
      "copy: s3://openaq-data-archive/records/csv.gz/locationid=8904/year=2024/month=07/location-8904-20240728.csv.gz to s3://sagemaker-us-east-1-768099485759/aai-final-project/openaq/month=07/location-8904-20240728.csv.gz\n",
      "copy: s3://openaq-data-archive/records/csv.gz/locationid=8904/year=2024/month=07/location-8904-20240727.csv.gz to s3://sagemaker-us-east-1-768099485759/aai-final-project/openaq/month=07/location-8904-20240727.csv.gz\n",
      "copy: s3://openaq-data-archive/records/csv.gz/locationid=8904/year=2024/month=07/location-8904-20240730.csv.gz to s3://sagemaker-us-east-1-768099485759/aai-final-project/openaq/month=07/location-8904-20240730.csv.gz\n",
      "copy: s3://openaq-data-archive/records/csv.gz/locationid=8904/year=2024/month=08/location-8904-20240803.csv.gz to s3://sagemaker-us-east-1-768099485759/aai-final-project/openaq/month=08/location-8904-20240803.csv.gz\n",
      "copy: s3://openaq-data-archive/records/csv.gz/locationid=8904/year=2024/month=08/location-8904-20240804.csv.gz to s3://sagemaker-us-east-1-768099485759/aai-final-project/openaq/month=08/location-8904-20240804.csv.gz\n",
      "copy: s3://openaq-data-archive/records/csv.gz/locationid=8904/year=2024/month=07/location-8904-20240731.csv.gz to s3://sagemaker-us-east-1-768099485759/aai-final-project/openaq/month=07/location-8904-20240731.csv.gz\n",
      "copy: s3://openaq-data-archive/records/csv.gz/locationid=8904/year=2024/month=08/location-8904-20240808.csv.gz to s3://sagemaker-us-east-1-768099485759/aai-final-project/openaq/month=08/location-8904-20240808.csv.gz\n",
      "copy: s3://openaq-data-archive/records/csv.gz/locationid=8904/year=2024/month=08/location-8904-20240807.csv.gz to s3://sagemaker-us-east-1-768099485759/aai-final-project/openaq/month=08/location-8904-20240807.csv.gz\n",
      "copy: s3://openaq-data-archive/records/csv.gz/locationid=8904/year=2024/month=08/location-8904-20240801.csv.gz to s3://sagemaker-us-east-1-768099485759/aai-final-project/openaq/month=08/location-8904-20240801.csv.gz\n",
      "copy: s3://openaq-data-archive/records/csv.gz/locationid=8904/year=2024/month=08/location-8904-20240806.csv.gz to s3://sagemaker-us-east-1-768099485759/aai-final-project/openaq/month=08/location-8904-20240806.csv.gz\n",
      "copy: s3://openaq-data-archive/records/csv.gz/locationid=8904/year=2024/month=08/location-8904-20240811.csv.gz to s3://sagemaker-us-east-1-768099485759/aai-final-project/openaq/month=08/location-8904-20240811.csv.gz\n",
      "copy: s3://openaq-data-archive/records/csv.gz/locationid=8904/year=2024/month=08/location-8904-20240810.csv.gz to s3://sagemaker-us-east-1-768099485759/aai-final-project/openaq/month=08/location-8904-20240810.csv.gz\n",
      "copy: s3://openaq-data-archive/records/csv.gz/locationid=8904/year=2024/month=08/location-8904-20240802.csv.gz to s3://sagemaker-us-east-1-768099485759/aai-final-project/openaq/month=08/location-8904-20240802.csv.gz\n",
      "copy: s3://openaq-data-archive/records/csv.gz/locationid=8904/year=2024/month=08/location-8904-20240812.csv.gz to s3://sagemaker-us-east-1-768099485759/aai-final-project/openaq/month=08/location-8904-20240812.csv.gz\n",
      "copy: s3://openaq-data-archive/records/csv.gz/locationid=8904/year=2024/month=08/location-8904-20240809.csv.gz to s3://sagemaker-us-east-1-768099485759/aai-final-project/openaq/month=08/location-8904-20240809.csv.gz\n",
      "copy: s3://openaq-data-archive/records/csv.gz/locationid=8904/year=2024/month=08/location-8904-20240805.csv.gz to s3://sagemaker-us-east-1-768099485759/aai-final-project/openaq/month=08/location-8904-20240805.csv.gz\n",
      "copy: s3://openaq-data-archive/records/csv.gz/locationid=8904/year=2024/month=08/location-8904-20240814.csv.gz to s3://sagemaker-us-east-1-768099485759/aai-final-project/openaq/month=08/location-8904-20240814.csv.gz\n",
      "copy: s3://openaq-data-archive/records/csv.gz/locationid=8904/year=2024/month=08/location-8904-20240813.csv.gz to s3://sagemaker-us-east-1-768099485759/aai-final-project/openaq/month=08/location-8904-20240813.csv.gz\n",
      "copy: s3://openaq-data-archive/records/csv.gz/locationid=8904/year=2024/month=08/location-8904-20240815.csv.gz to s3://sagemaker-us-east-1-768099485759/aai-final-project/openaq/month=08/location-8904-20240815.csv.gz\n",
      "copy: s3://openaq-data-archive/records/csv.gz/locationid=8904/year=2024/month=08/location-8904-20240818.csv.gz to s3://sagemaker-us-east-1-768099485759/aai-final-project/openaq/month=08/location-8904-20240818.csv.gz\n",
      "copy: s3://openaq-data-archive/records/csv.gz/locationid=8904/year=2024/month=08/location-8904-20240819.csv.gz to s3://sagemaker-us-east-1-768099485759/aai-final-project/openaq/month=08/location-8904-20240819.csv.gz\n",
      "copy: s3://openaq-data-archive/records/csv.gz/locationid=8904/year=2024/month=08/location-8904-20240816.csv.gz to s3://sagemaker-us-east-1-768099485759/aai-final-project/openaq/month=08/location-8904-20240816.csv.gz\n",
      "copy: s3://openaq-data-archive/records/csv.gz/locationid=8904/year=2024/month=08/location-8904-20240820.csv.gz to s3://sagemaker-us-east-1-768099485759/aai-final-project/openaq/month=08/location-8904-20240820.csv.gz\n",
      "copy: s3://openaq-data-archive/records/csv.gz/locationid=8904/year=2024/month=08/location-8904-20240817.csv.gz to s3://sagemaker-us-east-1-768099485759/aai-final-project/openaq/month=08/location-8904-20240817.csv.gz\n",
      "copy: s3://openaq-data-archive/records/csv.gz/locationid=8904/year=2024/month=08/location-8904-20240822.csv.gz to s3://sagemaker-us-east-1-768099485759/aai-final-project/openaq/month=08/location-8904-20240822.csv.gz\n",
      "copy: s3://openaq-data-archive/records/csv.gz/locationid=8904/year=2024/month=08/location-8904-20240821.csv.gz to s3://sagemaker-us-east-1-768099485759/aai-final-project/openaq/month=08/location-8904-20240821.csv.gz\n",
      "copy: s3://openaq-data-archive/records/csv.gz/locationid=8904/year=2024/month=08/location-8904-20240824.csv.gz to s3://sagemaker-us-east-1-768099485759/aai-final-project/openaq/month=08/location-8904-20240824.csv.gz\n",
      "copy: s3://openaq-data-archive/records/csv.gz/locationid=8904/year=2024/month=08/location-8904-20240823.csv.gz to s3://sagemaker-us-east-1-768099485759/aai-final-project/openaq/month=08/location-8904-20240823.csv.gz\n",
      "copy: s3://openaq-data-archive/records/csv.gz/locationid=8904/year=2024/month=08/location-8904-20240825.csv.gz to s3://sagemaker-us-east-1-768099485759/aai-final-project/openaq/month=08/location-8904-20240825.csv.gz\n",
      "copy: s3://openaq-data-archive/records/csv.gz/locationid=8904/year=2024/month=08/location-8904-20240826.csv.gz to s3://sagemaker-us-east-1-768099485759/aai-final-project/openaq/month=08/location-8904-20240826.csv.gz\n",
      "copy: s3://openaq-data-archive/records/csv.gz/locationid=8904/year=2024/month=08/location-8904-20240827.csv.gz to s3://sagemaker-us-east-1-768099485759/aai-final-project/openaq/month=08/location-8904-20240827.csv.gz\n",
      "copy: s3://openaq-data-archive/records/csv.gz/locationid=8904/year=2024/month=08/location-8904-20240830.csv.gz to s3://sagemaker-us-east-1-768099485759/aai-final-project/openaq/month=08/location-8904-20240830.csv.gz\n",
      "copy: s3://openaq-data-archive/records/csv.gz/locationid=8904/year=2024/month=08/location-8904-20240831.csv.gz to s3://sagemaker-us-east-1-768099485759/aai-final-project/openaq/month=08/location-8904-20240831.csv.gz\n",
      "copy: s3://openaq-data-archive/records/csv.gz/locationid=8904/year=2024/month=09/location-8904-20240901.csv.gz to s3://sagemaker-us-east-1-768099485759/aai-final-project/openaq/month=09/location-8904-20240901.csv.gz\n",
      "copy: s3://openaq-data-archive/records/csv.gz/locationid=8904/year=2024/month=09/location-8904-20240903.csv.gz to s3://sagemaker-us-east-1-768099485759/aai-final-project/openaq/month=09/location-8904-20240903.csv.gz\n",
      "copy: s3://openaq-data-archive/records/csv.gz/locationid=8904/year=2024/month=08/location-8904-20240828.csv.gz to s3://sagemaker-us-east-1-768099485759/aai-final-project/openaq/month=08/location-8904-20240828.csv.gz\n",
      "copy: s3://openaq-data-archive/records/csv.gz/locationid=8904/year=2024/month=09/location-8904-20240902.csv.gz to s3://sagemaker-us-east-1-768099485759/aai-final-project/openaq/month=09/location-8904-20240902.csv.gz\n",
      "copy: s3://openaq-data-archive/records/csv.gz/locationid=8904/year=2024/month=09/location-8904-20240905.csv.gz to s3://sagemaker-us-east-1-768099485759/aai-final-project/openaq/month=09/location-8904-20240905.csv.gz\n",
      "copy: s3://openaq-data-archive/records/csv.gz/locationid=8904/year=2024/month=09/location-8904-20240904.csv.gz to s3://sagemaker-us-east-1-768099485759/aai-final-project/openaq/month=09/location-8904-20240904.csv.gz\n",
      "copy: s3://openaq-data-archive/records/csv.gz/locationid=8904/year=2024/month=08/location-8904-20240829.csv.gz to s3://sagemaker-us-east-1-768099485759/aai-final-project/openaq/month=08/location-8904-20240829.csv.gz\n",
      "copy: s3://openaq-data-archive/records/csv.gz/locationid=8904/year=2024/month=09/location-8904-20240907.csv.gz to s3://sagemaker-us-east-1-768099485759/aai-final-project/openaq/month=09/location-8904-20240907.csv.gz\n",
      "copy: s3://openaq-data-archive/records/csv.gz/locationid=8904/year=2024/month=09/location-8904-20240908.csv.gz to s3://sagemaker-us-east-1-768099485759/aai-final-project/openaq/month=09/location-8904-20240908.csv.gz\n",
      "copy: s3://openaq-data-archive/records/csv.gz/locationid=8904/year=2024/month=09/location-8904-20240911.csv.gz to s3://sagemaker-us-east-1-768099485759/aai-final-project/openaq/month=09/location-8904-20240911.csv.gz\n",
      "copy: s3://openaq-data-archive/records/csv.gz/locationid=8904/year=2024/month=09/location-8904-20240910.csv.gz to s3://sagemaker-us-east-1-768099485759/aai-final-project/openaq/month=09/location-8904-20240910.csv.gz\n",
      "copy: s3://openaq-data-archive/records/csv.gz/locationid=8904/year=2024/month=09/location-8904-20240913.csv.gz to s3://sagemaker-us-east-1-768099485759/aai-final-project/openaq/month=09/location-8904-20240913.csv.gz\n",
      "copy: s3://openaq-data-archive/records/csv.gz/locationid=8904/year=2024/month=09/location-8904-20240912.csv.gz to s3://sagemaker-us-east-1-768099485759/aai-final-project/openaq/month=09/location-8904-20240912.csv.gz\n",
      "copy: s3://openaq-data-archive/records/csv.gz/locationid=8904/year=2024/month=09/location-8904-20240909.csv.gz to s3://sagemaker-us-east-1-768099485759/aai-final-project/openaq/month=09/location-8904-20240909.csv.gz\n",
      "copy: s3://openaq-data-archive/records/csv.gz/locationid=8904/year=2024/month=09/location-8904-20240915.csv.gz to s3://sagemaker-us-east-1-768099485759/aai-final-project/openaq/month=09/location-8904-20240915.csv.gz\n",
      "copy: s3://openaq-data-archive/records/csv.gz/locationid=8904/year=2024/month=09/location-8904-20240906.csv.gz to s3://sagemaker-us-east-1-768099485759/aai-final-project/openaq/month=09/location-8904-20240906.csv.gz\n",
      "copy: s3://openaq-data-archive/records/csv.gz/locationid=8904/year=2024/month=09/location-8904-20240914.csv.gz to s3://sagemaker-us-east-1-768099485759/aai-final-project/openaq/month=09/location-8904-20240914.csv.gz\n",
      "copy: s3://openaq-data-archive/records/csv.gz/locationid=8904/year=2024/month=09/location-8904-20240916.csv.gz to s3://sagemaker-us-east-1-768099485759/aai-final-project/openaq/month=09/location-8904-20240916.csv.gz\n",
      "copy: s3://openaq-data-archive/records/csv.gz/locationid=8904/year=2024/month=09/location-8904-20240918.csv.gz to s3://sagemaker-us-east-1-768099485759/aai-final-project/openaq/month=09/location-8904-20240918.csv.gz\n",
      "copy: s3://openaq-data-archive/records/csv.gz/locationid=8904/year=2024/month=09/location-8904-20240921.csv.gz to s3://sagemaker-us-east-1-768099485759/aai-final-project/openaq/month=09/location-8904-20240921.csv.gz\n",
      "copy: s3://openaq-data-archive/records/csv.gz/locationid=8904/year=2024/month=09/location-8904-20240917.csv.gz to s3://sagemaker-us-east-1-768099485759/aai-final-project/openaq/month=09/location-8904-20240917.csv.gz\n",
      "copy: s3://openaq-data-archive/records/csv.gz/locationid=8904/year=2024/month=09/location-8904-20240923.csv.gz to s3://sagemaker-us-east-1-768099485759/aai-final-project/openaq/month=09/location-8904-20240923.csv.gz\n",
      "copy: s3://openaq-data-archive/records/csv.gz/locationid=8904/year=2024/month=09/location-8904-20240922.csv.gz to s3://sagemaker-us-east-1-768099485759/aai-final-project/openaq/month=09/location-8904-20240922.csv.gz\n",
      "copy: s3://openaq-data-archive/records/csv.gz/locationid=8904/year=2024/month=09/location-8904-20240919.csv.gz to s3://sagemaker-us-east-1-768099485759/aai-final-project/openaq/month=09/location-8904-20240919.csv.gz\n",
      "copy: s3://openaq-data-archive/records/csv.gz/locationid=8904/year=2024/month=09/location-8904-20240920.csv.gz to s3://sagemaker-us-east-1-768099485759/aai-final-project/openaq/month=09/location-8904-20240920.csv.gz\n",
      "copy: s3://openaq-data-archive/records/csv.gz/locationid=8904/year=2024/month=09/location-8904-20240924.csv.gz to s3://sagemaker-us-east-1-768099485759/aai-final-project/openaq/month=09/location-8904-20240924.csv.gz\n",
      "copy: s3://openaq-data-archive/records/csv.gz/locationid=8904/year=2024/month=09/location-8904-20240928.csv.gz to s3://sagemaker-us-east-1-768099485759/aai-final-project/openaq/month=09/location-8904-20240928.csv.gz\n",
      "copy: s3://openaq-data-archive/records/csv.gz/locationid=8904/year=2024/month=09/location-8904-20240926.csv.gz to s3://sagemaker-us-east-1-768099485759/aai-final-project/openaq/month=09/location-8904-20240926.csv.gz\n",
      "copy: s3://openaq-data-archive/records/csv.gz/locationid=8904/year=2024/month=09/location-8904-20240927.csv.gz to s3://sagemaker-us-east-1-768099485759/aai-final-project/openaq/month=09/location-8904-20240927.csv.gz\n",
      "copy: s3://openaq-data-archive/records/csv.gz/locationid=8904/year=2024/month=09/location-8904-20240930.csv.gz to s3://sagemaker-us-east-1-768099485759/aai-final-project/openaq/month=09/location-8904-20240930.csv.gz\n",
      "copy: s3://openaq-data-archive/records/csv.gz/locationid=8904/year=2024/month=09/location-8904-20240925.csv.gz to s3://sagemaker-us-east-1-768099485759/aai-final-project/openaq/month=09/location-8904-20240925.csv.gz\n",
      "copy: s3://openaq-data-archive/records/csv.gz/locationid=8904/year=2024/month=09/location-8904-20240929.csv.gz to s3://sagemaker-us-east-1-768099485759/aai-final-project/openaq/month=09/location-8904-20240929.csv.gz\n",
      "copy: s3://openaq-data-archive/records/csv.gz/locationid=8904/year=2024/month=10/location-8904-20241002.csv.gz to s3://sagemaker-us-east-1-768099485759/aai-final-project/openaq/month=10/location-8904-20241002.csv.gz\n",
      "copy: s3://openaq-data-archive/records/csv.gz/locationid=8904/year=2024/month=10/location-8904-20241001.csv.gz to s3://sagemaker-us-east-1-768099485759/aai-final-project/openaq/month=10/location-8904-20241001.csv.gz\n",
      "copy: s3://openaq-data-archive/records/csv.gz/locationid=8904/year=2024/month=10/location-8904-20241004.csv.gz to s3://sagemaker-us-east-1-768099485759/aai-final-project/openaq/month=10/location-8904-20241004.csv.gz\n",
      "copy: s3://openaq-data-archive/records/csv.gz/locationid=8904/year=2024/month=10/location-8904-20241006.csv.gz to s3://sagemaker-us-east-1-768099485759/aai-final-project/openaq/month=10/location-8904-20241006.csv.gz\n",
      "copy: s3://openaq-data-archive/records/csv.gz/locationid=8904/year=2024/month=10/location-8904-20241005.csv.gz to s3://sagemaker-us-east-1-768099485759/aai-final-project/openaq/month=10/location-8904-20241005.csv.gz\n",
      "copy: s3://openaq-data-archive/records/csv.gz/locationid=8904/year=2024/month=10/location-8904-20241003.csv.gz to s3://sagemaker-us-east-1-768099485759/aai-final-project/openaq/month=10/location-8904-20241003.csv.gz\n",
      "copy: s3://openaq-data-archive/records/csv.gz/locationid=8904/year=2024/month=10/location-8904-20241007.csv.gz to s3://sagemaker-us-east-1-768099485759/aai-final-project/openaq/month=10/location-8904-20241007.csv.gz\n",
      "copy: s3://openaq-data-archive/records/csv.gz/locationid=8904/year=2024/month=10/location-8904-20241010.csv.gz to s3://sagemaker-us-east-1-768099485759/aai-final-project/openaq/month=10/location-8904-20241010.csv.gz\n",
      "copy: s3://openaq-data-archive/records/csv.gz/locationid=8904/year=2024/month=10/location-8904-20241008.csv.gz to s3://sagemaker-us-east-1-768099485759/aai-final-project/openaq/month=10/location-8904-20241008.csv.gz\n",
      "copy: s3://openaq-data-archive/records/csv.gz/locationid=8904/year=2024/month=10/location-8904-20241012.csv.gz to s3://sagemaker-us-east-1-768099485759/aai-final-project/openaq/month=10/location-8904-20241012.csv.gz\n",
      "copy: s3://openaq-data-archive/records/csv.gz/locationid=8904/year=2024/month=10/location-8904-20241013.csv.gz to s3://sagemaker-us-east-1-768099485759/aai-final-project/openaq/month=10/location-8904-20241013.csv.gz\n",
      "copy: s3://openaq-data-archive/records/csv.gz/locationid=8904/year=2024/month=10/location-8904-20241009.csv.gz to s3://sagemaker-us-east-1-768099485759/aai-final-project/openaq/month=10/location-8904-20241009.csv.gz\n",
      "copy: s3://openaq-data-archive/records/csv.gz/locationid=8904/year=2024/month=10/location-8904-20241014.csv.gz to s3://sagemaker-us-east-1-768099485759/aai-final-project/openaq/month=10/location-8904-20241014.csv.gz\n",
      "copy: s3://openaq-data-archive/records/csv.gz/locationid=8904/year=2024/month=10/location-8904-20241016.csv.gz to s3://sagemaker-us-east-1-768099485759/aai-final-project/openaq/month=10/location-8904-20241016.csv.gz\n",
      "copy: s3://openaq-data-archive/records/csv.gz/locationid=8904/year=2024/month=10/location-8904-20241018.csv.gz to s3://sagemaker-us-east-1-768099485759/aai-final-project/openaq/month=10/location-8904-20241018.csv.gz\n",
      "copy: s3://openaq-data-archive/records/csv.gz/locationid=8904/year=2024/month=10/location-8904-20241017.csv.gz to s3://sagemaker-us-east-1-768099485759/aai-final-project/openaq/month=10/location-8904-20241017.csv.gz\n",
      "copy: s3://openaq-data-archive/records/csv.gz/locationid=8904/year=2024/month=10/location-8904-20241015.csv.gz to s3://sagemaker-us-east-1-768099485759/aai-final-project/openaq/month=10/location-8904-20241015.csv.gz\n",
      "copy: s3://openaq-data-archive/records/csv.gz/locationid=8904/year=2024/month=10/location-8904-20241019.csv.gz to s3://sagemaker-us-east-1-768099485759/aai-final-project/openaq/month=10/location-8904-20241019.csv.gz\n",
      "copy: s3://openaq-data-archive/records/csv.gz/locationid=8904/year=2024/month=10/location-8904-20241023.csv.gz to s3://sagemaker-us-east-1-768099485759/aai-final-project/openaq/month=10/location-8904-20241023.csv.gz\n",
      "copy: s3://openaq-data-archive/records/csv.gz/locationid=8904/year=2024/month=10/location-8904-20241022.csv.gz to s3://sagemaker-us-east-1-768099485759/aai-final-project/openaq/month=10/location-8904-20241022.csv.gz\n",
      "copy: s3://openaq-data-archive/records/csv.gz/locationid=8904/year=2024/month=10/location-8904-20241020.csv.gz to s3://sagemaker-us-east-1-768099485759/aai-final-project/openaq/month=10/location-8904-20241020.csv.gz\n",
      "copy: s3://openaq-data-archive/records/csv.gz/locationid=8904/year=2024/month=10/location-8904-20241024.csv.gz to s3://sagemaker-us-east-1-768099485759/aai-final-project/openaq/month=10/location-8904-20241024.csv.gz\n",
      "copy: s3://openaq-data-archive/records/csv.gz/locationid=8904/year=2024/month=10/location-8904-20241021.csv.gz to s3://sagemaker-us-east-1-768099485759/aai-final-project/openaq/month=10/location-8904-20241021.csv.gz\n",
      "copy: s3://openaq-data-archive/records/csv.gz/locationid=8904/year=2024/month=10/location-8904-20241025.csv.gz to s3://sagemaker-us-east-1-768099485759/aai-final-project/openaq/month=10/location-8904-20241025.csv.gz\n",
      "copy: s3://openaq-data-archive/records/csv.gz/locationid=8904/year=2024/month=10/location-8904-20241011.csv.gz to s3://sagemaker-us-east-1-768099485759/aai-final-project/openaq/month=10/location-8904-20241011.csv.gz\n",
      "copy: s3://openaq-data-archive/records/csv.gz/locationid=8904/year=2024/month=10/location-8904-20241027.csv.gz to s3://sagemaker-us-east-1-768099485759/aai-final-project/openaq/month=10/location-8904-20241027.csv.gz\n",
      "copy: s3://openaq-data-archive/records/csv.gz/locationid=8904/year=2024/month=10/location-8904-20241028.csv.gz to s3://sagemaker-us-east-1-768099485759/aai-final-project/openaq/month=10/location-8904-20241028.csv.gz\n",
      "copy: s3://openaq-data-archive/records/csv.gz/locationid=8904/year=2024/month=10/location-8904-20241031.csv.gz to s3://sagemaker-us-east-1-768099485759/aai-final-project/openaq/month=10/location-8904-20241031.csv.gz\n",
      "copy: s3://openaq-data-archive/records/csv.gz/locationid=8904/year=2024/month=10/location-8904-20241029.csv.gz to s3://sagemaker-us-east-1-768099485759/aai-final-project/openaq/month=10/location-8904-20241029.csv.gz\n",
      "copy: s3://openaq-data-archive/records/csv.gz/locationid=8904/year=2024/month=10/location-8904-20241026.csv.gz to s3://sagemaker-us-east-1-768099485759/aai-final-project/openaq/month=10/location-8904-20241026.csv.gz\n",
      "copy: s3://openaq-data-archive/records/csv.gz/locationid=8904/year=2024/month=11/location-8904-20241101.csv.gz to s3://sagemaker-us-east-1-768099485759/aai-final-project/openaq/month=11/location-8904-20241101.csv.gz\n",
      "copy: s3://openaq-data-archive/records/csv.gz/locationid=8904/year=2024/month=10/location-8904-20241030.csv.gz to s3://sagemaker-us-east-1-768099485759/aai-final-project/openaq/month=10/location-8904-20241030.csv.gz\n",
      "copy: s3://openaq-data-archive/records/csv.gz/locationid=8904/year=2024/month=11/location-8904-20241104.csv.gz to s3://sagemaker-us-east-1-768099485759/aai-final-project/openaq/month=11/location-8904-20241104.csv.gz\n",
      "copy: s3://openaq-data-archive/records/csv.gz/locationid=8904/year=2024/month=11/location-8904-20241102.csv.gz to s3://sagemaker-us-east-1-768099485759/aai-final-project/openaq/month=11/location-8904-20241102.csv.gz\n",
      "copy: s3://openaq-data-archive/records/csv.gz/locationid=8904/year=2024/month=11/location-8904-20241103.csv.gz to s3://sagemaker-us-east-1-768099485759/aai-final-project/openaq/month=11/location-8904-20241103.csv.gz\n",
      "copy: s3://openaq-data-archive/records/csv.gz/locationid=8904/year=2024/month=11/location-8904-20241105.csv.gz to s3://sagemaker-us-east-1-768099485759/aai-final-project/openaq/month=11/location-8904-20241105.csv.gz\n",
      "copy: s3://openaq-data-archive/records/csv.gz/locationid=8904/year=2024/month=11/location-8904-20241106.csv.gz to s3://sagemaker-us-east-1-768099485759/aai-final-project/openaq/month=11/location-8904-20241106.csv.gz\n",
      "copy: s3://openaq-data-archive/records/csv.gz/locationid=8904/year=2024/month=11/location-8904-20241107.csv.gz to s3://sagemaker-us-east-1-768099485759/aai-final-project/openaq/month=11/location-8904-20241107.csv.gz\n",
      "copy: s3://openaq-data-archive/records/csv.gz/locationid=8904/year=2024/month=11/location-8904-20241110.csv.gz to s3://sagemaker-us-east-1-768099485759/aai-final-project/openaq/month=11/location-8904-20241110.csv.gz\n",
      "copy: s3://openaq-data-archive/records/csv.gz/locationid=8904/year=2024/month=11/location-8904-20241108.csv.gz to s3://sagemaker-us-east-1-768099485759/aai-final-project/openaq/month=11/location-8904-20241108.csv.gz\n",
      "copy: s3://openaq-data-archive/records/csv.gz/locationid=8904/year=2024/month=11/location-8904-20241109.csv.gz to s3://sagemaker-us-east-1-768099485759/aai-final-project/openaq/month=11/location-8904-20241109.csv.gz\n",
      "copy: s3://openaq-data-archive/records/csv.gz/locationid=8904/year=2024/month=11/location-8904-20241111.csv.gz to s3://sagemaker-us-east-1-768099485759/aai-final-project/openaq/month=11/location-8904-20241111.csv.gz\n",
      "copy: s3://openaq-data-archive/records/csv.gz/locationid=8904/year=2024/month=11/location-8904-20241112.csv.gz to s3://sagemaker-us-east-1-768099485759/aai-final-project/openaq/month=11/location-8904-20241112.csv.gz\n",
      "copy: s3://openaq-data-archive/records/csv.gz/locationid=8904/year=2024/month=11/location-8904-20241115.csv.gz to s3://sagemaker-us-east-1-768099485759/aai-final-project/openaq/month=11/location-8904-20241115.csv.gz\n",
      "copy: s3://openaq-data-archive/records/csv.gz/locationid=8904/year=2024/month=11/location-8904-20241114.csv.gz to s3://sagemaker-us-east-1-768099485759/aai-final-project/openaq/month=11/location-8904-20241114.csv.gz\n",
      "copy: s3://openaq-data-archive/records/csv.gz/locationid=8904/year=2024/month=11/location-8904-20241117.csv.gz to s3://sagemaker-us-east-1-768099485759/aai-final-project/openaq/month=11/location-8904-20241117.csv.gz\n",
      "copy: s3://openaq-data-archive/records/csv.gz/locationid=8904/year=2024/month=11/location-8904-20241113.csv.gz to s3://sagemaker-us-east-1-768099485759/aai-final-project/openaq/month=11/location-8904-20241113.csv.gz\n",
      "copy: s3://openaq-data-archive/records/csv.gz/locationid=8904/year=2024/month=11/location-8904-20241116.csv.gz to s3://sagemaker-us-east-1-768099485759/aai-final-project/openaq/month=11/location-8904-20241116.csv.gz\n",
      "copy: s3://openaq-data-archive/records/csv.gz/locationid=8904/year=2024/month=11/location-8904-20241121.csv.gz to s3://sagemaker-us-east-1-768099485759/aai-final-project/openaq/month=11/location-8904-20241121.csv.gz\n",
      "copy: s3://openaq-data-archive/records/csv.gz/locationid=8904/year=2024/month=11/location-8904-20241118.csv.gz to s3://sagemaker-us-east-1-768099485759/aai-final-project/openaq/month=11/location-8904-20241118.csv.gz\n",
      "copy: s3://openaq-data-archive/records/csv.gz/locationid=8904/year=2024/month=11/location-8904-20241119.csv.gz to s3://sagemaker-us-east-1-768099485759/aai-final-project/openaq/month=11/location-8904-20241119.csv.gz\n",
      "copy: s3://openaq-data-archive/records/csv.gz/locationid=8904/year=2024/month=11/location-8904-20241123.csv.gz to s3://sagemaker-us-east-1-768099485759/aai-final-project/openaq/month=11/location-8904-20241123.csv.gz\n",
      "copy: s3://openaq-data-archive/records/csv.gz/locationid=8904/year=2024/month=11/location-8904-20241125.csv.gz to s3://sagemaker-us-east-1-768099485759/aai-final-project/openaq/month=11/location-8904-20241125.csv.gz\n",
      "copy: s3://openaq-data-archive/records/csv.gz/locationid=8904/year=2024/month=11/location-8904-20241122.csv.gz to s3://sagemaker-us-east-1-768099485759/aai-final-project/openaq/month=11/location-8904-20241122.csv.gz\n",
      "copy: s3://openaq-data-archive/records/csv.gz/locationid=8904/year=2024/month=11/location-8904-20241126.csv.gz to s3://sagemaker-us-east-1-768099485759/aai-final-project/openaq/month=11/location-8904-20241126.csv.gz\n",
      "copy: s3://openaq-data-archive/records/csv.gz/locationid=8904/year=2024/month=11/location-8904-20241120.csv.gz to s3://sagemaker-us-east-1-768099485759/aai-final-project/openaq/month=11/location-8904-20241120.csv.gz\n",
      "copy: s3://openaq-data-archive/records/csv.gz/locationid=8904/year=2024/month=12/location-8904-20241201.csv.gz to s3://sagemaker-us-east-1-768099485759/aai-final-project/openaq/month=12/location-8904-20241201.csv.gz\n",
      "copy: s3://openaq-data-archive/records/csv.gz/locationid=8904/year=2024/month=11/location-8904-20241124.csv.gz to s3://sagemaker-us-east-1-768099485759/aai-final-project/openaq/month=11/location-8904-20241124.csv.gz\n",
      "copy: s3://openaq-data-archive/records/csv.gz/locationid=8904/year=2024/month=11/location-8904-20241130.csv.gz to s3://sagemaker-us-east-1-768099485759/aai-final-project/openaq/month=11/location-8904-20241130.csv.gz\n",
      "copy: s3://openaq-data-archive/records/csv.gz/locationid=8904/year=2024/month=11/location-8904-20241127.csv.gz to s3://sagemaker-us-east-1-768099485759/aai-final-project/openaq/month=11/location-8904-20241127.csv.gz\n",
      "copy: s3://openaq-data-archive/records/csv.gz/locationid=8904/year=2024/month=11/location-8904-20241128.csv.gz to s3://sagemaker-us-east-1-768099485759/aai-final-project/openaq/month=11/location-8904-20241128.csv.gz\n",
      "copy: s3://openaq-data-archive/records/csv.gz/locationid=8904/year=2024/month=12/location-8904-20241204.csv.gz to s3://sagemaker-us-east-1-768099485759/aai-final-project/openaq/month=12/location-8904-20241204.csv.gz\n",
      "copy: s3://openaq-data-archive/records/csv.gz/locationid=8904/year=2024/month=11/location-8904-20241129.csv.gz to s3://sagemaker-us-east-1-768099485759/aai-final-project/openaq/month=11/location-8904-20241129.csv.gz\n",
      "copy: s3://openaq-data-archive/records/csv.gz/locationid=8904/year=2024/month=12/location-8904-20241202.csv.gz to s3://sagemaker-us-east-1-768099485759/aai-final-project/openaq/month=12/location-8904-20241202.csv.gz\n",
      "copy: s3://openaq-data-archive/records/csv.gz/locationid=8904/year=2024/month=12/location-8904-20241205.csv.gz to s3://sagemaker-us-east-1-768099485759/aai-final-project/openaq/month=12/location-8904-20241205.csv.gz\n",
      "copy: s3://openaq-data-archive/records/csv.gz/locationid=8904/year=2024/month=12/location-8904-20241207.csv.gz to s3://sagemaker-us-east-1-768099485759/aai-final-project/openaq/month=12/location-8904-20241207.csv.gz\n",
      "copy: s3://openaq-data-archive/records/csv.gz/locationid=8904/year=2024/month=12/location-8904-20241203.csv.gz to s3://sagemaker-us-east-1-768099485759/aai-final-project/openaq/month=12/location-8904-20241203.csv.gz\n",
      "copy: s3://openaq-data-archive/records/csv.gz/locationid=8904/year=2024/month=12/location-8904-20241206.csv.gz to s3://sagemaker-us-east-1-768099485759/aai-final-project/openaq/month=12/location-8904-20241206.csv.gz\n",
      "copy: s3://openaq-data-archive/records/csv.gz/locationid=8904/year=2024/month=12/location-8904-20241211.csv.gz to s3://sagemaker-us-east-1-768099485759/aai-final-project/openaq/month=12/location-8904-20241211.csv.gz\n",
      "copy: s3://openaq-data-archive/records/csv.gz/locationid=8904/year=2024/month=12/location-8904-20241208.csv.gz to s3://sagemaker-us-east-1-768099485759/aai-final-project/openaq/month=12/location-8904-20241208.csv.gz\n",
      "copy: s3://openaq-data-archive/records/csv.gz/locationid=8904/year=2024/month=12/location-8904-20241212.csv.gz to s3://sagemaker-us-east-1-768099485759/aai-final-project/openaq/month=12/location-8904-20241212.csv.gz\n",
      "copy: s3://openaq-data-archive/records/csv.gz/locationid=8904/year=2024/month=12/location-8904-20241214.csv.gz to s3://sagemaker-us-east-1-768099485759/aai-final-project/openaq/month=12/location-8904-20241214.csv.gz\n",
      "copy: s3://openaq-data-archive/records/csv.gz/locationid=8904/year=2024/month=12/location-8904-20241209.csv.gz to s3://sagemaker-us-east-1-768099485759/aai-final-project/openaq/month=12/location-8904-20241209.csv.gz\n",
      "copy: s3://openaq-data-archive/records/csv.gz/locationid=8904/year=2024/month=12/location-8904-20241213.csv.gz to s3://sagemaker-us-east-1-768099485759/aai-final-project/openaq/month=12/location-8904-20241213.csv.gz\n",
      "copy: s3://openaq-data-archive/records/csv.gz/locationid=8904/year=2024/month=12/location-8904-20241215.csv.gz to s3://sagemaker-us-east-1-768099485759/aai-final-project/openaq/month=12/location-8904-20241215.csv.gz\n",
      "copy: s3://openaq-data-archive/records/csv.gz/locationid=8904/year=2024/month=12/location-8904-20241210.csv.gz to s3://sagemaker-us-east-1-768099485759/aai-final-project/openaq/month=12/location-8904-20241210.csv.gz\n",
      "copy: s3://openaq-data-archive/records/csv.gz/locationid=8904/year=2024/month=12/location-8904-20241218.csv.gz to s3://sagemaker-us-east-1-768099485759/aai-final-project/openaq/month=12/location-8904-20241218.csv.gz\n",
      "copy: s3://openaq-data-archive/records/csv.gz/locationid=8904/year=2024/month=12/location-8904-20241216.csv.gz to s3://sagemaker-us-east-1-768099485759/aai-final-project/openaq/month=12/location-8904-20241216.csv.gz\n",
      "copy: s3://openaq-data-archive/records/csv.gz/locationid=8904/year=2024/month=12/location-8904-20241220.csv.gz to s3://sagemaker-us-east-1-768099485759/aai-final-project/openaq/month=12/location-8904-20241220.csv.gz\n",
      "copy: s3://openaq-data-archive/records/csv.gz/locationid=8904/year=2024/month=12/location-8904-20241219.csv.gz to s3://sagemaker-us-east-1-768099485759/aai-final-project/openaq/month=12/location-8904-20241219.csv.gz\n",
      "copy: s3://openaq-data-archive/records/csv.gz/locationid=8904/year=2024/month=12/location-8904-20241221.csv.gz to s3://sagemaker-us-east-1-768099485759/aai-final-project/openaq/month=12/location-8904-20241221.csv.gz\n",
      "copy: s3://openaq-data-archive/records/csv.gz/locationid=8904/year=2024/month=12/location-8904-20241223.csv.gz to s3://sagemaker-us-east-1-768099485759/aai-final-project/openaq/month=12/location-8904-20241223.csv.gz\n",
      "copy: s3://openaq-data-archive/records/csv.gz/locationid=8904/year=2024/month=12/location-8904-20241225.csv.gz to s3://sagemaker-us-east-1-768099485759/aai-final-project/openaq/month=12/location-8904-20241225.csv.gz\n",
      "copy: s3://openaq-data-archive/records/csv.gz/locationid=8904/year=2024/month=12/location-8904-20241217.csv.gz to s3://sagemaker-us-east-1-768099485759/aai-final-project/openaq/month=12/location-8904-20241217.csv.gz\n",
      "copy: s3://openaq-data-archive/records/csv.gz/locationid=8904/year=2024/month=12/location-8904-20241227.csv.gz to s3://sagemaker-us-east-1-768099485759/aai-final-project/openaq/month=12/location-8904-20241227.csv.gz\n",
      "copy: s3://openaq-data-archive/records/csv.gz/locationid=8904/year=2024/month=12/location-8904-20241222.csv.gz to s3://sagemaker-us-east-1-768099485759/aai-final-project/openaq/month=12/location-8904-20241222.csv.gz\n",
      "copy: s3://openaq-data-archive/records/csv.gz/locationid=8904/year=2024/month=12/location-8904-20241224.csv.gz to s3://sagemaker-us-east-1-768099485759/aai-final-project/openaq/month=12/location-8904-20241224.csv.gz\n",
      "copy: s3://openaq-data-archive/records/csv.gz/locationid=8904/year=2024/month=12/location-8904-20241231.csv.gz to s3://sagemaker-us-east-1-768099485759/aai-final-project/openaq/month=12/location-8904-20241231.csv.gz\n",
      "copy: s3://openaq-data-archive/records/csv.gz/locationid=8904/year=2024/month=12/location-8904-20241230.csv.gz to s3://sagemaker-us-east-1-768099485759/aai-final-project/openaq/month=12/location-8904-20241230.csv.gz\n",
      "copy: s3://openaq-data-archive/records/csv.gz/locationid=8904/year=2024/month=12/location-8904-20241229.csv.gz to s3://sagemaker-us-east-1-768099485759/aai-final-project/openaq/month=12/location-8904-20241229.csv.gz\n",
      "copy: s3://openaq-data-archive/records/csv.gz/locationid=8904/year=2024/month=12/location-8904-20241228.csv.gz to s3://sagemaker-us-east-1-768099485759/aai-final-project/openaq/month=12/location-8904-20241228.csv.gz\n",
      "copy: s3://openaq-data-archive/records/csv.gz/locationid=8904/year=2024/month=12/location-8904-20241226.csv.gz to s3://sagemaker-us-east-1-768099485759/aai-final-project/openaq/month=12/location-8904-20241226.csv.gz\n"
     ]
    }
   ],
   "source": [
    "!aws s3 cp --recursive s3://openaq-data-archive/records/csv.gz/locationid=8904/year=2024/ $s3_private_path_openaq"
   ]
  },
  {
   "cell_type": "code",
   "execution_count": 4,
   "id": "56b517fd-0777-45a7-af91-bcd00dba4748",
   "metadata": {},
   "outputs": [
    {
     "name": "stdout",
     "output_type": "stream",
     "text": [
      "s3://sagemaker-us-east-1-768099485759/aai-final-project/openaq\n"
     ]
    }
   ],
   "source": [
    "print(s3_private_path_openaq)"
   ]
  },
  {
   "cell_type": "code",
   "execution_count": 5,
   "id": "31216245-4b5b-47cc-b8ed-ce9da07be5b4",
   "metadata": {},
   "outputs": [
    {
     "name": "stdout",
     "output_type": "stream",
     "text": [
      "                           PRE month=01/\n",
      "                           PRE month=02/\n",
      "                           PRE month=03/\n",
      "                           PRE month=04/\n",
      "                           PRE month=05/\n",
      "                           PRE month=06/\n",
      "                           PRE month=07/\n",
      "                           PRE month=08/\n",
      "                           PRE month=09/\n",
      "                           PRE month=10/\n",
      "                           PRE month=11/\n",
      "                           PRE month=12/\n"
     ]
    }
   ],
   "source": [
    "!aws s3 ls $s3_private_path_openaq/"
   ]
  },
  {
   "cell_type": "code",
   "execution_count": 6,
   "id": "e7e3a128-cd52-4c5a-aecd-7e3acef51722",
   "metadata": {},
   "outputs": [
    {
     "name": "stderr",
     "output_type": "stream",
     "text": [
      "/tmp/ipykernel_125/730034397.py:1: DeprecationWarning: Importing display from IPython.core.display is deprecated since IPython 7.14, please import from IPython.display\n",
      "  from IPython.core.display import display, HTML\n"
     ]
    },
    {
     "data": {
      "text/html": [
       "<b>Review <a target=\"blank\" href=\"https://s3.console.aws.amazon.com/s3/buckets/sagemaker-us-east-1-768099485759/aai-final-project/?region=us-east-1&tab=overview\">S3 Bucket</a></b>"
      ],
      "text/plain": [
       "<IPython.core.display.HTML object>"
      ]
     },
     "metadata": {},
     "output_type": "display_data"
    }
   ],
   "source": [
    "from IPython.core.display import display, HTML\n",
    "\n",
    "display(\n",
    "    HTML(\n",
    "        '<b>Review <a target=\"blank\" href=\"https://s3.console.aws.amazon.com/s3/buckets/sagemaker-{}-{}/aai-final-project/?region={}&tab=overview\">S3 Bucket</a></b>'.format(\n",
    "            region, account_id, region\n",
    "        )\n",
    "    )\n",
    ")"
   ]
  },
  {
   "cell_type": "code",
   "execution_count": 7,
   "id": "31182d2b-ff0b-4c3b-8afb-77c72cceb3d2",
   "metadata": {},
   "outputs": [],
   "source": [
    "from pyathena import connect"
   ]
  },
  {
   "cell_type": "code",
   "execution_count": 8,
   "id": "0f43ebd0-3e97-4c35-b438-578376881be1",
   "metadata": {},
   "outputs": [],
   "source": [
    "# TODO Give this database a better name\n",
    "database_name = \"project_data\"\n",
    "table_name_openaq = \"final_project_openaq\""
   ]
  },
  {
   "cell_type": "code",
   "execution_count": 9,
   "id": "4ecc24af-56f0-4d65-b6cd-7ccb3adc1d8c",
   "metadata": {},
   "outputs": [],
   "source": [
    "# Set S3 staging directory -- this is a temporary directory used for Athena queries\n",
    "s3_staging_dir = \"s3://{0}/athena/staging\".format(bucket)"
   ]
  },
  {
   "cell_type": "code",
   "execution_count": 10,
   "id": "0a6ba13a-c790-4934-9d15-ee863eb0c6e7",
   "metadata": {},
   "outputs": [],
   "source": [
    "conn = connect(region_name=region, s3_staging_dir=s3_staging_dir)"
   ]
  },
  {
   "cell_type": "code",
   "execution_count": 11,
   "id": "68fd0ac2-1c73-47c8-b832-bad25602a767",
   "metadata": {},
   "outputs": [
    {
     "name": "stdout",
     "output_type": "stream",
     "text": [
      "CREATE DATABASE IF NOT EXISTS aai_aws\n"
     ]
    }
   ],
   "source": [
    "statement = \"CREATE DATABASE IF NOT EXISTS {}\".format(database_name)\n",
    "print(statement)"
   ]
  },
  {
   "cell_type": "code",
   "execution_count": 12,
   "id": "6196bf3c-7cb4-4b32-8586-e787eddd99c3",
   "metadata": {},
   "outputs": [
    {
     "name": "stderr",
     "output_type": "stream",
     "text": [
      "/tmp/ipykernel_125/3803073958.py:3: UserWarning: pandas only supports SQLAlchemy connectable (engine/connection) or database string URI or sqlite3 DBAPI2 connection. Other DBAPI2 objects are not tested. Please consider using SQLAlchemy.\n",
      "  pd.read_sql(statement, conn)\n"
     ]
    },
    {
     "data": {
      "text/html": [
       "<div>\n",
       "<style scoped>\n",
       "    .dataframe tbody tr th:only-of-type {\n",
       "        vertical-align: middle;\n",
       "    }\n",
       "\n",
       "    .dataframe tbody tr th {\n",
       "        vertical-align: top;\n",
       "    }\n",
       "\n",
       "    .dataframe thead th {\n",
       "        text-align: right;\n",
       "    }\n",
       "</style>\n",
       "<table border=\"1\" class=\"dataframe\">\n",
       "  <thead>\n",
       "    <tr style=\"text-align: right;\">\n",
       "      <th></th>\n",
       "    </tr>\n",
       "  </thead>\n",
       "  <tbody>\n",
       "  </tbody>\n",
       "</table>\n",
       "</div>"
      ],
      "text/plain": [
       "Empty DataFrame\n",
       "Columns: []\n",
       "Index: []"
      ]
     },
     "execution_count": 12,
     "metadata": {},
     "output_type": "execute_result"
    }
   ],
   "source": [
    "import pandas as pd\n",
    "\n",
    "pd.read_sql(statement, conn)"
   ]
  },
  {
   "cell_type": "code",
   "execution_count": 13,
   "id": "bc6672e5-8714-44a4-9452-9b3e1864207b",
   "metadata": {},
   "outputs": [
    {
     "name": "stdout",
     "output_type": "stream",
     "text": [
      "CREATE EXTERNAL TABLE IF NOT EXISTS aai_aws.final_project_openaq(\n",
      "         location_id int,\n",
      "         sensors_id int,\n",
      "         location string,\n",
      "         datetime string,\n",
      "         latitude float,\n",
      "         longitude float,\n",
      "         parameter string,\n",
      "         unit string,\n",
      "         value float\n",
      ") ROW FORMAT DELIMITED FIELDS TERMINATED BY ',' LINES TERMINATED BY '\\n' LOCATION 's3://sagemaker-us-east-1-768099485759/aai-final-project/openaq'\n",
      "TBLPROPERTIES ('compressionType'='gzip', 'skip.header.line.count'='1')\n"
     ]
    }
   ],
   "source": [
    "# SQL statement to execute\n",
    "statement = \"\"\"CREATE EXTERNAL TABLE IF NOT EXISTS {}.{}(\n",
    "         location_id int,\n",
    "         sensors_id int,\n",
    "         location string,\n",
    "         datetime string,\n",
    "         latitude float,\n",
    "         longitude float,\n",
    "         parameter string,\n",
    "         unit string,\n",
    "         value float\n",
    ") ROW FORMAT DELIMITED FIELDS TERMINATED BY ',' LINES TERMINATED BY '\\\\n' LOCATION '{}'\n",
    "TBLPROPERTIES ('compressionType'='gzip', 'skip.header.line.count'='1')\"\"\".format(\n",
    "    database_name, table_name_openaq, s3_private_path_openaq\n",
    ")\n",
    "\n",
    "print(statement)"
   ]
  },
  {
   "cell_type": "code",
   "execution_count": 14,
   "id": "155bc2f6-6d2f-4cdb-a003-21df76f77999",
   "metadata": {},
   "outputs": [
    {
     "name": "stderr",
     "output_type": "stream",
     "text": [
      "/tmp/ipykernel_125/3803073958.py:3: UserWarning: pandas only supports SQLAlchemy connectable (engine/connection) or database string URI or sqlite3 DBAPI2 connection. Other DBAPI2 objects are not tested. Please consider using SQLAlchemy.\n",
      "  pd.read_sql(statement, conn)\n"
     ]
    },
    {
     "data": {
      "text/html": [
       "<div>\n",
       "<style scoped>\n",
       "    .dataframe tbody tr th:only-of-type {\n",
       "        vertical-align: middle;\n",
       "    }\n",
       "\n",
       "    .dataframe tbody tr th {\n",
       "        vertical-align: top;\n",
       "    }\n",
       "\n",
       "    .dataframe thead th {\n",
       "        text-align: right;\n",
       "    }\n",
       "</style>\n",
       "<table border=\"1\" class=\"dataframe\">\n",
       "  <thead>\n",
       "    <tr style=\"text-align: right;\">\n",
       "      <th></th>\n",
       "    </tr>\n",
       "  </thead>\n",
       "  <tbody>\n",
       "  </tbody>\n",
       "</table>\n",
       "</div>"
      ],
      "text/plain": [
       "Empty DataFrame\n",
       "Columns: []\n",
       "Index: []"
      ]
     },
     "execution_count": 14,
     "metadata": {},
     "output_type": "execute_result"
    }
   ],
   "source": [
    "import pandas as pd\n",
    "\n",
    "pd.read_sql(statement, conn)"
   ]
  },
  {
   "cell_type": "code",
   "execution_count": 15,
   "id": "ec6a037e-9849-4380-bdbd-a6244ab7eb98",
   "metadata": {},
   "outputs": [
    {
     "name": "stderr",
     "output_type": "stream",
     "text": [
      "/tmp/ipykernel_125/4130537117.py:1: DeprecationWarning: Importing display from IPython.core.display is deprecated since IPython 7.14, please import from IPython.display\n",
      "  from IPython.core.display import display, HTML\n"
     ]
    },
    {
     "data": {
      "text/html": [
       "<b>Review <a target=\"top\" href=\"https://console.aws.amazon.com/glue/home?region=us-east-1#\">AWS Glue Catalog</a></b>"
      ],
      "text/plain": [
       "<IPython.core.display.HTML object>"
      ]
     },
     "metadata": {},
     "output_type": "display_data"
    }
   ],
   "source": [
    "from IPython.core.display import display, HTML\n",
    "\n",
    "display(\n",
    "    HTML(\n",
    "        '<b>Review <a target=\"top\" href=\"https://console.aws.amazon.com/glue/home?region={}#\">AWS Glue Catalog</a></b>'.format(\n",
    "            region\n",
    "        )\n",
    "    )\n",
    ")"
   ]
  },
  {
   "cell_type": "code",
   "execution_count": 16,
   "id": "ada24724-4f6f-4da6-8380-a315bcea8bc8",
   "metadata": {},
   "outputs": [
    {
     "name": "stderr",
     "output_type": "stream",
     "text": [
      "/tmp/ipykernel_125/2201015668.py:3: UserWarning: pandas only supports SQLAlchemy connectable (engine/connection) or database string URI or sqlite3 DBAPI2 connection. Other DBAPI2 objects are not tested. Please consider using SQLAlchemy.\n",
      "  df_show = pd.read_sql(statement, conn)\n"
     ]
    },
    {
     "data": {
      "text/html": [
       "<div>\n",
       "<style scoped>\n",
       "    .dataframe tbody tr th:only-of-type {\n",
       "        vertical-align: middle;\n",
       "    }\n",
       "\n",
       "    .dataframe tbody tr th {\n",
       "        vertical-align: top;\n",
       "    }\n",
       "\n",
       "    .dataframe thead th {\n",
       "        text-align: right;\n",
       "    }\n",
       "</style>\n",
       "<table border=\"1\" class=\"dataframe\">\n",
       "  <thead>\n",
       "    <tr style=\"text-align: right;\">\n",
       "      <th></th>\n",
       "      <th>tab_name</th>\n",
       "    </tr>\n",
       "  </thead>\n",
       "  <tbody>\n",
       "    <tr>\n",
       "      <th>0</th>\n",
       "      <td>final_project_openaq</td>\n",
       "    </tr>\n",
       "  </tbody>\n",
       "</table>\n",
       "</div>"
      ],
      "text/plain": [
       "               tab_name\n",
       "0  final_project_openaq"
      ]
     },
     "execution_count": 16,
     "metadata": {},
     "output_type": "execute_result"
    }
   ],
   "source": [
    "statement = \"SHOW TABLES in {}\".format(database_name)\n",
    "\n",
    "df_show = pd.read_sql(statement, conn)\n",
    "df_show.head(5)"
   ]
  },
  {
   "cell_type": "code",
   "execution_count": 31,
   "id": "b3a77725-e842-49f4-9588-aec451990f32",
   "metadata": {},
   "outputs": [
    {
     "name": "stdout",
     "output_type": "stream",
     "text": [
      "SELECT * FROM aai_aws.final_project_openaq WHERE location = '\"West Los Angeles - V-8904\"' LIMIT 100\n"
     ]
    }
   ],
   "source": [
    "# TODO Need to remove quotes from string parameters to make queries easier\n",
    "location_name = '\"West Los Angeles - V-8904\"'\n",
    "\n",
    "statement = \"\"\"SELECT * FROM {}.{} WHERE location = '{}' LIMIT 100\"\"\".format(\n",
    "    database_name, table_name_openaq, location_name\n",
    ")\n",
    "\n",
    "print(statement)"
   ]
  },
  {
   "cell_type": "code",
   "execution_count": 32,
   "id": "d7061dc1-8067-463a-841f-f57cdcfba32c",
   "metadata": {},
   "outputs": [
    {
     "name": "stderr",
     "output_type": "stream",
     "text": [
      "/tmp/ipykernel_125/8222894.py:1: UserWarning: pandas only supports SQLAlchemy connectable (engine/connection) or database string URI or sqlite3 DBAPI2 connection. Other DBAPI2 objects are not tested. Please consider using SQLAlchemy.\n",
      "  df = pd.read_sql(statement, conn)\n"
     ]
    },
    {
     "data": {
      "text/html": [
       "<div>\n",
       "<style scoped>\n",
       "    .dataframe tbody tr th:only-of-type {\n",
       "        vertical-align: middle;\n",
       "    }\n",
       "\n",
       "    .dataframe tbody tr th {\n",
       "        vertical-align: top;\n",
       "    }\n",
       "\n",
       "    .dataframe thead th {\n",
       "        text-align: right;\n",
       "    }\n",
       "</style>\n",
       "<table border=\"1\" class=\"dataframe\">\n",
       "  <thead>\n",
       "    <tr style=\"text-align: right;\">\n",
       "      <th></th>\n",
       "      <th>location_id</th>\n",
       "      <th>sensors_id</th>\n",
       "      <th>location</th>\n",
       "      <th>datetime</th>\n",
       "      <th>latitude</th>\n",
       "      <th>longitude</th>\n",
       "      <th>parameter</th>\n",
       "      <th>unit</th>\n",
       "      <th>value</th>\n",
       "    </tr>\n",
       "  </thead>\n",
       "  <tbody>\n",
       "    <tr>\n",
       "      <th>0</th>\n",
       "      <td>8904</td>\n",
       "      <td>25979</td>\n",
       "      <td>\"West Los Angeles - V-8904\"</td>\n",
       "      <td>\"2024-01-11T01:00:00-08:00\"</td>\n",
       "      <td>34.051098</td>\n",
       "      <td>-118.45638</td>\n",
       "      <td>\"o3\"</td>\n",
       "      <td>\"ppm\"</td>\n",
       "      <td>0.0290</td>\n",
       "    </tr>\n",
       "    <tr>\n",
       "      <th>1</th>\n",
       "      <td>8904</td>\n",
       "      <td>25979</td>\n",
       "      <td>\"West Los Angeles - V-8904\"</td>\n",
       "      <td>\"2024-01-11T02:00:00-08:00\"</td>\n",
       "      <td>34.051098</td>\n",
       "      <td>-118.45638</td>\n",
       "      <td>\"o3\"</td>\n",
       "      <td>\"ppm\"</td>\n",
       "      <td>0.0290</td>\n",
       "    </tr>\n",
       "    <tr>\n",
       "      <th>2</th>\n",
       "      <td>8904</td>\n",
       "      <td>25979</td>\n",
       "      <td>\"West Los Angeles - V-8904\"</td>\n",
       "      <td>\"2024-01-11T03:00:00-08:00\"</td>\n",
       "      <td>34.051098</td>\n",
       "      <td>-118.45638</td>\n",
       "      <td>\"o3\"</td>\n",
       "      <td>\"ppm\"</td>\n",
       "      <td>0.0340</td>\n",
       "    </tr>\n",
       "    <tr>\n",
       "      <th>3</th>\n",
       "      <td>8904</td>\n",
       "      <td>25979</td>\n",
       "      <td>\"West Los Angeles - V-8904\"</td>\n",
       "      <td>\"2024-01-11T04:00:00-08:00\"</td>\n",
       "      <td>34.051098</td>\n",
       "      <td>-118.45638</td>\n",
       "      <td>\"o3\"</td>\n",
       "      <td>\"ppm\"</td>\n",
       "      <td>0.0360</td>\n",
       "    </tr>\n",
       "    <tr>\n",
       "      <th>4</th>\n",
       "      <td>8904</td>\n",
       "      <td>25979</td>\n",
       "      <td>\"West Los Angeles - V-8904\"</td>\n",
       "      <td>\"2024-01-11T05:00:00-08:00\"</td>\n",
       "      <td>34.051098</td>\n",
       "      <td>-118.45638</td>\n",
       "      <td>\"o3\"</td>\n",
       "      <td>\"ppm\"</td>\n",
       "      <td>0.0330</td>\n",
       "    </tr>\n",
       "    <tr>\n",
       "      <th>...</th>\n",
       "      <td>...</td>\n",
       "      <td>...</td>\n",
       "      <td>...</td>\n",
       "      <td>...</td>\n",
       "      <td>...</td>\n",
       "      <td>...</td>\n",
       "      <td>...</td>\n",
       "      <td>...</td>\n",
       "      <td>...</td>\n",
       "    </tr>\n",
       "    <tr>\n",
       "      <th>95</th>\n",
       "      <td>8904</td>\n",
       "      <td>4272246</td>\n",
       "      <td>\"West Los Angeles - V-8904\"</td>\n",
       "      <td>\"2024-01-12T00:00:00-08:00\"</td>\n",
       "      <td>34.051098</td>\n",
       "      <td>-118.45638</td>\n",
       "      <td>\"no\"</td>\n",
       "      <td>\"ppm\"</td>\n",
       "      <td>0.0003</td>\n",
       "    </tr>\n",
       "    <tr>\n",
       "      <th>96</th>\n",
       "      <td>8904</td>\n",
       "      <td>25978</td>\n",
       "      <td>\"West Los Angeles - V-8904\"</td>\n",
       "      <td>\"2024-08-30T01:00:00-07:00\"</td>\n",
       "      <td>NaN</td>\n",
       "      <td>NaN</td>\n",
       "      <td>\"no2\"</td>\n",
       "      <td>\"ppm\"</td>\n",
       "      <td>NaN</td>\n",
       "    </tr>\n",
       "    <tr>\n",
       "      <th>97</th>\n",
       "      <td>8904</td>\n",
       "      <td>25978</td>\n",
       "      <td>\"West Los Angeles - V-8904\"</td>\n",
       "      <td>\"2024-08-30T02:00:00-07:00\"</td>\n",
       "      <td>NaN</td>\n",
       "      <td>NaN</td>\n",
       "      <td>\"no2\"</td>\n",
       "      <td>\"ppm\"</td>\n",
       "      <td>NaN</td>\n",
       "    </tr>\n",
       "    <tr>\n",
       "      <th>98</th>\n",
       "      <td>8904</td>\n",
       "      <td>25978</td>\n",
       "      <td>\"West Los Angeles - V-8904\"</td>\n",
       "      <td>\"2024-08-30T03:00:00-07:00\"</td>\n",
       "      <td>NaN</td>\n",
       "      <td>NaN</td>\n",
       "      <td>\"no2\"</td>\n",
       "      <td>\"ppm\"</td>\n",
       "      <td>NaN</td>\n",
       "    </tr>\n",
       "    <tr>\n",
       "      <th>99</th>\n",
       "      <td>8904</td>\n",
       "      <td>25978</td>\n",
       "      <td>\"West Los Angeles - V-8904\"</td>\n",
       "      <td>\"2024-08-30T04:00:00-07:00\"</td>\n",
       "      <td>NaN</td>\n",
       "      <td>NaN</td>\n",
       "      <td>\"no2\"</td>\n",
       "      <td>\"ppm\"</td>\n",
       "      <td>NaN</td>\n",
       "    </tr>\n",
       "  </tbody>\n",
       "</table>\n",
       "<p>100 rows × 9 columns</p>\n",
       "</div>"
      ],
      "text/plain": [
       "    location_id  sensors_id                     location  \\\n",
       "0          8904       25979  \"West Los Angeles - V-8904\"   \n",
       "1          8904       25979  \"West Los Angeles - V-8904\"   \n",
       "2          8904       25979  \"West Los Angeles - V-8904\"   \n",
       "3          8904       25979  \"West Los Angeles - V-8904\"   \n",
       "4          8904       25979  \"West Los Angeles - V-8904\"   \n",
       "..          ...         ...                          ...   \n",
       "95         8904     4272246  \"West Los Angeles - V-8904\"   \n",
       "96         8904       25978  \"West Los Angeles - V-8904\"   \n",
       "97         8904       25978  \"West Los Angeles - V-8904\"   \n",
       "98         8904       25978  \"West Los Angeles - V-8904\"   \n",
       "99         8904       25978  \"West Los Angeles - V-8904\"   \n",
       "\n",
       "                       datetime   latitude  longitude parameter   unit   value  \n",
       "0   \"2024-01-11T01:00:00-08:00\"  34.051098 -118.45638      \"o3\"  \"ppm\"  0.0290  \n",
       "1   \"2024-01-11T02:00:00-08:00\"  34.051098 -118.45638      \"o3\"  \"ppm\"  0.0290  \n",
       "2   \"2024-01-11T03:00:00-08:00\"  34.051098 -118.45638      \"o3\"  \"ppm\"  0.0340  \n",
       "3   \"2024-01-11T04:00:00-08:00\"  34.051098 -118.45638      \"o3\"  \"ppm\"  0.0360  \n",
       "4   \"2024-01-11T05:00:00-08:00\"  34.051098 -118.45638      \"o3\"  \"ppm\"  0.0330  \n",
       "..                          ...        ...        ...       ...    ...     ...  \n",
       "95  \"2024-01-12T00:00:00-08:00\"  34.051098 -118.45638      \"no\"  \"ppm\"  0.0003  \n",
       "96  \"2024-08-30T01:00:00-07:00\"        NaN        NaN     \"no2\"  \"ppm\"     NaN  \n",
       "97  \"2024-08-30T02:00:00-07:00\"        NaN        NaN     \"no2\"  \"ppm\"     NaN  \n",
       "98  \"2024-08-30T03:00:00-07:00\"        NaN        NaN     \"no2\"  \"ppm\"     NaN  \n",
       "99  \"2024-08-30T04:00:00-07:00\"        NaN        NaN     \"no2\"  \"ppm\"     NaN  \n",
       "\n",
       "[100 rows x 9 columns]"
      ]
     },
     "execution_count": 32,
     "metadata": {},
     "output_type": "execute_result"
    }
   ],
   "source": [
    "df = pd.read_sql(statement, conn)\n",
    "df"
   ]
  }
 ],
 "metadata": {
  "kernelspec": {
   "display_name": "Python 3 (ipykernel)",
   "language": "python",
   "name": "python3"
  },
  "language_info": {
   "codemirror_mode": {
    "name": "ipython",
    "version": 3
   },
   "file_extension": ".py",
   "mimetype": "text/x-python",
   "name": "python",
   "nbconvert_exporter": "python",
   "pygments_lexer": "ipython3",
   "version": "3.11.11"
  }
 },
 "nbformat": 4,
 "nbformat_minor": 5
}
