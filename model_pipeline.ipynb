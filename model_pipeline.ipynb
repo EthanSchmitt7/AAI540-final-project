{
 "cells": [
  {
   "cell_type": "markdown",
   "id": "107e4a0e-f06e-4860-b7d2-5d4a7e6b362f",
   "metadata": {},
   "source": [
    "# Model Pipeline\n",
    "\n",
    "## Pipeline Setup"
   ]
  },
  {
   "cell_type": "code",
   "execution_count": 1,
   "id": "82152d6f-aa33-4412-82f9-ce24e50d860b",
   "metadata": {},
   "outputs": [],
   "source": [
    "from datetime import datetime, timedelta\n",
    "import numpy as np\n",
    "import pandas as pd\n",
    "import optuna\n",
    "import torch\n",
    "import torch.nn as nn\n",
    "import torch.optim as optim\n",
    "from torch.utils.data import Dataset, DataLoader\n",
    "from tqdm import tqdm"
   ]
  },
  {
   "cell_type": "code",
   "execution_count": 2,
   "id": "33e8befd-c4b9-4ec9-8c48-27c32ded23bd",
   "metadata": {},
   "outputs": [
    {
     "name": "stderr",
     "output_type": "stream",
     "text": [
      "/opt/conda/lib/python3.11/site-packages/pydantic/_internal/_fields.py:192: UserWarning: Field name \"json\" in \"MonitoringDatasetFormat\" shadows an attribute in parent \"Base\"\n",
      "  warnings.warn(\n"
     ]
    },
    {
     "name": "stdout",
     "output_type": "stream",
     "text": [
      "sagemaker.config INFO - Not applying SDK defaults from location: /etc/xdg/sagemaker/config.yaml\n",
      "sagemaker.config INFO - Not applying SDK defaults from location: /home/sagemaker-user/.config/sagemaker/config.yaml\n"
     ]
    }
   ],
   "source": [
    "import sys\n",
    "\n",
    "import boto3\n",
    "import sagemaker\n",
    "from sagemaker.workflow.pipeline_context import PipelineSession\n",
    "\n",
    "from sagemaker.workflow.parameters import (\n",
    "    ParameterInteger,\n",
    "    ParameterString,\n",
    "    ParameterFloat,\n",
    ")\n",
    "\n",
    "from sagemaker.sklearn.processing import SKLearnProcessor\n",
    "from sagemaker.processing import ProcessingInput, ProcessingOutput\n",
    "from sagemaker.workflow.steps import ProcessingStep\n",
    "\n",
    "sagemaker_session = sagemaker.session.Session()\n",
    "region = sagemaker_session.boto_region_name\n",
    "role = sagemaker.get_execution_role()\n",
    "pipeline_session = PipelineSession()\n",
    "default_bucket = sagemaker_session.default_bucket()"
   ]
  },
  {
   "cell_type": "code",
   "execution_count": 3,
   "id": "74837e7a-6936-4f03-a47e-387fca8935d7",
   "metadata": {},
   "outputs": [
    {
     "name": "stdout",
     "output_type": "stream",
     "text": [
      "s3://sagemaker-us-east-1-790237383528/airdata/sensor_data.csv\n"
     ]
    }
   ],
   "source": [
    "local_path = \"data/sensor_data.csv\"\n",
    "\n",
    "base_uri = f\"s3://{default_bucket}/airdata\"\n",
    "input_data_uri = sagemaker.s3.S3Uploader.upload(\n",
    "    local_path=local_path,\n",
    "    desired_s3_uri=base_uri,\n",
    ")\n",
    "print(input_data_uri)"
   ]
  },
  {
   "cell_type": "code",
   "execution_count": 4,
   "id": "ec58ebf2-0092-4a54-a5e5-6a2dd287e0ef",
   "metadata": {},
   "outputs": [],
   "source": [
    "processing_instance_count = ParameterInteger(\n",
    "    name=\"ProcessingInstanceCount\",\n",
    "    default_value=1\n",
    ")\n",
    "\n",
    "instance_type = ParameterString(\n",
    "    name=\"TrainingInstanceType\",\n",
    "    default_value=\"ml.m5.xlarge\"\n",
    ")\n",
    "\n",
    "model_approval_status = ParameterString(\n",
    "    name=\"ModelApprovalStatus\",\n",
    "    default_value=\"PendingManualApproval\"\n",
    ")\n",
    "\n",
    "input_data = ParameterString(\n",
    "    name=\"InputData\",\n",
    "    default_value=input_data_uri,\n",
    ")\n",
    "\n",
    "mse_threshold = ParameterFloat(name=\"MseThreshold\", default_value=0.5)"
   ]
  },
  {
   "cell_type": "markdown",
   "id": "a1b6219f-e675-4925-b3b4-54cf1650fbf6",
   "metadata": {},
   "source": [
    "## Preprocessing Script"
   ]
  },
  {
   "cell_type": "code",
   "execution_count": 5,
   "id": "4ce99344-a8fd-4aba-b6f7-103c475a8823",
   "metadata": {},
   "outputs": [
    {
     "name": "stdout",
     "output_type": "stream",
     "text": [
      "Overwriting code/preprocessing.py\n"
     ]
    }
   ],
   "source": [
    "%%writefile code/preprocessing.py\n",
    "import argparse\n",
    "import os\n",
    "import requests\n",
    "import tempfile\n",
    "\n",
    "import numpy as np\n",
    "import pandas as pd\n",
    "from sklearn.preprocessing import StandardScaler\n",
    "\n",
    "\n",
    "TRAIN_SPLIT = 0.7\n",
    "VAL_SPLIT = 0.15\n",
    "TEST_SPLIT = 0.15\n",
    "TARGET_PARAM = \"pm25\"\n",
    "\n",
    "base_dir = \"/opt/ml/processing\"\n",
    "\n",
    "df_location = pd.read_csv(\n",
    "    f\"{base_dir}/input/sensor_data.csv\"\n",
    ")\n",
    "\n",
    "# Split training\n",
    "df_param = df_location[df_location['parameter'] == TARGET_PARAM]  # Filter data for this parameter\n",
    "train_data = df_param.iloc[:int(len(df_param) * TRAIN_SPLIT)]\n",
    "train_data = train_data.reset_index(drop=True)\n",
    "\n",
    "# Split validation\n",
    "val_data = df_param.iloc[int(len(df_param) * TRAIN_SPLIT):int(len(df_param) * TRAIN_SPLIT) + int(len(df_param) * VAL_SPLIT)]\n",
    "val_data = val_data.reset_index(drop=True)\n",
    "\n",
    "# Split testing\n",
    "test_data = df_param.iloc[int(len(df_param) * TRAIN_SPLIT) + int(len(df_param) * VAL_SPLIT):int(len(df_param) * TRAIN_SPLIT) + int(len(df_param) * VAL_SPLIT) + int(len(df_param) * TEST_SPLIT)]\n",
    "test_data = test_data.reset_index(drop=True)\n",
    "\n",
    "# Normalize the training dataset\n",
    "scaler = StandardScaler()\n",
    "train_data.loc[:, \"value\"] = scaler.fit_transform(train_data[\"value\"].values.reshape(-1, 1))\n",
    "val_data.loc[:, \"value\"] = scaler.transform(val_data[\"value\"].values.reshape(-1, 1))\n",
    "test_data.loc[:, \"value\"] = scaler.transform(test_data[\"value\"].values.reshape(-1, 1))\n",
    "\n",
    "print(\"Train Data Shape:\", train_data.shape)\n",
    "print(\"Validation Data Shape:\", val_data.shape)\n",
    "print(\"Test Data Shape:\", test_data.shape)\n",
    "\n",
    "pd.DataFrame(train_data).to_csv(f\"{base_dir}/train/train.csv\")\n",
    "pd.DataFrame(val_data).to_csv(f\"{base_dir}/validation/validation.csv\")\n",
    "pd.DataFrame(test_data).to_csv(f\"{base_dir}/test/test.csv\")"
   ]
  },
  {
   "cell_type": "code",
   "execution_count": 6,
   "id": "ef8d4734-6ac1-4c92-9341-c7f3751f11f4",
   "metadata": {},
   "outputs": [
    {
     "data": {
      "text/html": [
       "<pre style=\"white-space:pre;overflow-x:auto;line-height:normal;font-family:Menlo,'DejaVu Sans Mono',consolas,'Courier New',monospace\"><span style=\"color: #7fbfbf; text-decoration-color: #7fbfbf\">[02/17/25 17:08:25] </span><span style=\"color: #0069ff; text-decoration-color: #0069ff; font-weight: bold\">INFO    </span> Defaulting to only available Python version: py3                     <a href=\"file:///opt/conda/lib/python3.11/site-packages/sagemaker/image_uris.py\" target=\"_blank\"><span style=\"color: #7f7f7f; text-decoration-color: #7f7f7f\">image_uris.py</span></a><span style=\"color: #7f7f7f; text-decoration-color: #7f7f7f\">:</span><a href=\"file:///opt/conda/lib/python3.11/site-packages/sagemaker/image_uris.py#610\" target=\"_blank\"><span style=\"color: #7f7f7f; text-decoration-color: #7f7f7f\">610</span></a>\n",
       "</pre>\n"
      ],
      "text/plain": [
       "\u001b[2;36m[02/17/25 17:08:25]\u001b[0m\u001b[2;36m \u001b[0m\u001b[1;38;2;0;105;255mINFO    \u001b[0m Defaulting to only available Python version: py3                     \u001b]8;id=441611;file:///opt/conda/lib/python3.11/site-packages/sagemaker/image_uris.py\u001b\\\u001b[2mimage_uris.py\u001b[0m\u001b]8;;\u001b\\\u001b[2m:\u001b[0m\u001b]8;id=914147;file:///opt/conda/lib/python3.11/site-packages/sagemaker/image_uris.py#610\u001b\\\u001b[2m610\u001b[0m\u001b]8;;\u001b\\\n"
      ]
     },
     "metadata": {},
     "output_type": "display_data"
    }
   ],
   "source": [
    "from sagemaker.sklearn.processing import SKLearnProcessor\n",
    "\n",
    "framework_version = \"1.2-1\"\n",
    "\n",
    "sklearn_processor = SKLearnProcessor(\n",
    "    framework_version=framework_version,\n",
    "    instance_type=\"ml.m5.xlarge\",\n",
    "    instance_count=processing_instance_count,\n",
    "    base_job_name=\"sklearn-airdata-process\",\n",
    "    role=role,\n",
    "    sagemaker_session=pipeline_session,\n",
    ")"
   ]
  },
  {
   "cell_type": "code",
   "execution_count": 7,
   "id": "ff14b4d6-2f66-49c2-bacf-67c2f49fff94",
   "metadata": {},
   "outputs": [
    {
     "name": "stderr",
     "output_type": "stream",
     "text": [
      "/opt/conda/lib/python3.11/site-packages/sagemaker/workflow/pipeline_context.py:332: UserWarning: Running within a PipelineSession, there will be No Wait, No Logs, and No Job being started.\n",
      "  warnings.warn(\n"
     ]
    }
   ],
   "source": [
    "from sagemaker.processing import ProcessingInput, ProcessingOutput\n",
    "from sagemaker.workflow.steps import ProcessingStep\n",
    "\n",
    "processor_args = sklearn_processor.run(\n",
    "    inputs=[\n",
    "        ProcessingInput(source=input_data, destination=\"/opt/ml/processing/input\"),\n",
    "    ],\n",
    "    outputs=[\n",
    "        ProcessingOutput(output_name=\"train\", source=\"/opt/ml/processing/train\"),\n",
    "        ProcessingOutput(output_name=\"validation\", source=\"/opt/ml/processing/validation\"),\n",
    "        ProcessingOutput(output_name=\"test\", source=\"/opt/ml/processing/test\"),\n",
    "    ],\n",
    "    code=\"code/preprocessing.py\",\n",
    ")\n",
    "\n",
    "step_process = ProcessingStep(name=\"AirDataProcess\", step_args=processor_args)"
   ]
  },
  {
   "cell_type": "markdown",
   "id": "768e8073-366c-4d02-ace6-d6025a7eda0b",
   "metadata": {},
   "source": [
    "## Model Training"
   ]
  },
  {
   "cell_type": "code",
   "execution_count": 8,
   "id": "92622913-be86-42ff-aa98-239d3c3f45e1",
   "metadata": {},
   "outputs": [
    {
     "name": "stdout",
     "output_type": "stream",
     "text": [
      "Overwriting code/train.py\n"
     ]
    }
   ],
   "source": [
    "%%writefile code/train.py\n",
    "\n",
    "import argparse\n",
    "import os\n",
    "import pandas as pd\n",
    "import numpy as np\n",
    "import torch\n",
    "from torch import nn, optim\n",
    "from torch.utils.data import DataLoader, Dataset\n",
    "\n",
    "# ---------------------------\n",
    "# Dataset definition\n",
    "# ---------------------------\n",
    "class TimeSeriesDataset(Dataset):\n",
    "    def __init__(self, data, seq_len=30, pred_len=1):\n",
    "        \"\"\"\n",
    "        Args:\n",
    "        - data (pd.DataFrame or np.array): Time series with a column 'value'\n",
    "        - seq_len (int): Number of timesteps in the input sequence\n",
    "        - pred_len (int): Number of timesteps in the output sequence\n",
    "        \"\"\"\n",
    "        self.data = np.array(data[\"value\"]) if isinstance(data, pd.DataFrame) else np.array(data)\n",
    "        self.seq_len = seq_len\n",
    "        self.pred_len = pred_len\n",
    "\n",
    "    def __len__(self):\n",
    "        \"\"\"Returns total number of sequences available\"\"\"\n",
    "        return max(0, len(self.data) - self.seq_len - self.pred_len)\n",
    "\n",
    "    def __getitem__(self, idx):\n",
    "        \"\"\"Retrieves input sequence and target sequence\"\"\"\n",
    "        if idx >= len(self):\n",
    "            raise IndexError(f\"Index {idx} out of bounds for dataset length {len(self)}\")\n",
    "\n",
    "        x = self.data[idx : idx + self.seq_len]\n",
    "        y = self.data[idx + self.seq_len : idx + self.seq_len + self.pred_len]\n",
    "\n",
    "        # Return tensors for PyTorch\n",
    "        return torch.tensor(x, dtype=torch.float32), torch.tensor(y, dtype=torch.float32)\n",
    "\n",
    "# ---------------------------\n",
    "# Model definition\n",
    "# ---------------------------\n",
    "class LSTM(nn.Module):\n",
    "    def __init__(self, input_size=1, hidden_size=50, num_layers=1):\n",
    "        super(LSTM, self).__init__()\n",
    "        self.hidden_size = hidden_size\n",
    "        self.num_layers = num_layers\n",
    "        self.lstm = nn.LSTM(input_size, hidden_size, num_layers, batch_first=True)\n",
    "        self.fc = nn.Linear(hidden_size, 1)\n",
    "\n",
    "    def forward(self, x):\n",
    "        h0 = torch.zeros(self.num_layers, x.size(0), self.hidden_size)\n",
    "        c0 = torch.zeros(self.num_layers, x.size(0), self.hidden_size)\n",
    "        out, _ = self.lstm(x.unsqueeze(-1), (h0, c0))\n",
    "        # out is (batch_size, seq_len, hidden_size)\n",
    "        # We want the last timestep\n",
    "        out = out[:, -1, :]\n",
    "        out = self.fc(out)  # shape (batch_size, 1)\n",
    "        return out\n",
    "\n",
    "# ---------------------------\n",
    "# Main training function\n",
    "# ---------------------------\n",
    "def main():\n",
    "    parser = argparse.ArgumentParser()\n",
    "\n",
    "    # Channels for data paths (SageMaker will populate these automatically)\n",
    "    parser.add_argument(\"--train\", type=str, default=os.environ.get(\"SM_CHANNEL_TRAIN\"))\n",
    "    parser.add_argument(\"--validation\", type=str, default=os.environ.get(\"SM_CHANNEL_VALIDATION\"))\n",
    "    parser.add_argument(\"--test\", type=str, default=os.environ.get(\"SM_CHANNEL_TEST\"))\n",
    "\n",
    "    # Hyperparameters\n",
    "    parser.add_argument(\"--seq-len\", type=int, default=20)\n",
    "    parser.add_argument(\"--pred-len\", type=int, default=1)\n",
    "    parser.add_argument(\"--batch-size\", type=int, default=8)\n",
    "    parser.add_argument(\"--epochs\", type=int, default=50)\n",
    "    parser.add_argument(\"--hidden-size\", type=int, default=50)\n",
    "    parser.add_argument(\"--num-layers\", type=int, default=1)\n",
    "    parser.add_argument(\"--lr\", type=float, default=0.001)\n",
    "\n",
    "    args = parser.parse_args()\n",
    "\n",
    "    # ---------------------------\n",
    "    # Load data\n",
    "    # ---------------------------\n",
    "    # Processor wrote \"train.csv\", \"validation.csv\", and \"test.csv\"\n",
    "    # into the respective directories: /opt/ml/input/data/train, etc.\n",
    "    train_csv = os.path.join(args.train, \"train.csv\")\n",
    "    val_csv   = os.path.join(args.validation, \"validation.csv\")\n",
    "    test_csv  = os.path.join(args.test, \"test.csv\")\n",
    "\n",
    "    train_data = pd.read_csv(train_csv)\n",
    "    val_data   = pd.read_csv(val_csv)\n",
    "    test_data  = pd.read_csv(test_csv)\n",
    "\n",
    "    # ---------------------------\n",
    "    # Create PyTorch datasets & loaders\n",
    "    # ---------------------------\n",
    "    train_dataset = TimeSeriesDataset(train_data, seq_len=args.seq_len, pred_len=args.pred_len)\n",
    "    val_dataset   = TimeSeriesDataset(val_data, seq_len=args.seq_len, pred_len=args.pred_len)\n",
    "    test_dataset  = TimeSeriesDataset(test_data, seq_len=args.seq_len, pred_len=args.pred_len)\n",
    "\n",
    "    train_loader = DataLoader(train_dataset, batch_size=args.batch_size, shuffle=True)\n",
    "    val_loader   = DataLoader(val_dataset, batch_size=args.batch_size, shuffle=False)\n",
    "    test_loader  = DataLoader(test_dataset, batch_size=args.batch_size, shuffle=False)\n",
    "\n",
    "    # ---------------------------\n",
    "    # Initialize model, loss, optimizer\n",
    "    # ---------------------------\n",
    "    model = LSTM(\n",
    "        input_size=1,\n",
    "        hidden_size=args.hidden_size,\n",
    "        num_layers=args.num_layers\n",
    "    )\n",
    "\n",
    "    criterion = nn.MSELoss()\n",
    "    optimizer = optim.Adam(model.parameters(), lr=args.lr)\n",
    "\n",
    "    # ---------------------------\n",
    "    # Training Loop\n",
    "    # ---------------------------\n",
    "    for epoch in range(args.epochs):\n",
    "        # Training\n",
    "        model.train()\n",
    "        train_loss = 0.0\n",
    "        for inputs, targets in train_loader:\n",
    "            optimizer.zero_grad()\n",
    "            outputs = model(inputs)\n",
    "            loss = criterion(outputs, targets)\n",
    "            loss.backward()\n",
    "            optimizer.step()\n",
    "            train_loss += loss.item()\n",
    "        train_loss /= len(train_loader)\n",
    "\n",
    "        # Validation\n",
    "        model.eval()\n",
    "        val_loss = 0.0\n",
    "        with torch.no_grad():\n",
    "            for val_inputs, val_targets in val_loader:\n",
    "                val_outputs = model(val_inputs)\n",
    "                val_loss += criterion(val_outputs, val_targets).item()\n",
    "        val_loss /= len(val_loader)\n",
    "\n",
    "        # Test\n",
    "        model.eval()\n",
    "        test_loss = 0.0\n",
    "        with torch.no_grad():\n",
    "            for test_inputs, test_targets in test_loader:\n",
    "                test_outputs = model(test_inputs)\n",
    "                test_loss += criterion(test_outputs, test_targets).item()\n",
    "        test_loss /= len(test_loader)\n",
    "\n",
    "        print(f\"Epoch [{epoch+1}/{args.epochs}] \"\n",
    "              f\"TrainLoss: {train_loss:.4f} \"\n",
    "              f\"ValLoss: {val_loss:.4f} \"\n",
    "              f\"TestLoss: {test_loss:.4f}\")\n",
    "        \n",
    "    # ---------------------------\n",
    "    # Save the model\n",
    "    # ---------------------------\n",
    "    # Uploads /opt/ml/model to S3 after training\n",
    "    model_dir = os.environ.get(\"SM_MODEL_DIR\", \"/opt/ml/model\")\n",
    "    model_path = os.path.join(model_dir, \"model.pt\")\n",
    "    torch.save(model.state_dict(), model_path)\n",
    "    print(f\"Model saved to {model_path}\")\n",
    "\n",
    "if __name__ == \"__main__\":\n",
    "    main()\n"
   ]
  },
  {
   "cell_type": "code",
   "execution_count": 9,
   "id": "877b6006-ffe5-4d60-9c0f-4ff5f4cb1235",
   "metadata": {},
   "outputs": [],
   "source": [
    "from sagemaker.pytorch import PyTorch\n",
    "from sagemaker.inputs import TrainingInput\n",
    "from sagemaker.workflow.steps import TrainingStep\n",
    "\n",
    "pytorch_estimator = PyTorch(\n",
    "    entry_point=\"train.py\",\n",
    "    source_dir=\"code\",\n",
    "    role=role,\n",
    "    framework_version=\"2.0\",\n",
    "    py_version=\"py310\",\n",
    "    instance_count=1,\n",
    "    instance_type=\"ml.m5.xlarge\",\n",
    "    hyperparameters={\n",
    "        \"seq-len\": 20,\n",
    "        \"pred-len\": 1,\n",
    "        \"batch-size\": 8,\n",
    "        \"epochs\": 50,\n",
    "        \"hidden-size\": 50,\n",
    "        \"num-layers\": 1,\n",
    "        \"lr\": 0.001\n",
    "    },\n",
    "    sagemaker_session=pipeline_session,\n",
    "    metric_definitions=[\n",
    "        {\n",
    "            \"Name\": \"test_mse\",\n",
    "            \"Regex\": r\"TestLoss:\\s+([0-9\\.]+)\"\n",
    "        }\n",
    "    ]\n",
    ")\n"
   ]
  },
  {
   "cell_type": "code",
   "execution_count": 10,
   "id": "9757f1cb-2436-4b1a-b03c-dc41debe563a",
   "metadata": {},
   "outputs": [],
   "source": [
    "step_train = TrainingStep(\n",
    "    name=\"TrainStep\",\n",
    "    estimator=pytorch_estimator,\n",
    "    inputs={\n",
    "        \"train\": TrainingInput(\n",
    "            s3_data=step_process.properties.ProcessingOutputConfig.Outputs[\"train\"].S3Output.S3Uri\n",
    "        ),\n",
    "        \"validation\": TrainingInput(\n",
    "            s3_data=step_process.properties.ProcessingOutputConfig.Outputs[\"validation\"].S3Output.S3Uri\n",
    "        ),\n",
    "        \"test\": TrainingInput(\n",
    "            s3_data=step_process.properties.ProcessingOutputConfig.Outputs[\"test\"].S3Output.S3Uri\n",
    "        ),\n",
    "    },\n",
    ")"
   ]
  },
  {
   "cell_type": "markdown",
   "id": "b714b92b-3417-4ef8-a250-496c63483ab2",
   "metadata": {},
   "source": [
    "## Inference Code"
   ]
  },
  {
   "cell_type": "code",
   "execution_count": 11,
   "id": "63ba76a1-617a-4696-b040-03314328a76a",
   "metadata": {},
   "outputs": [
    {
     "name": "stdout",
     "output_type": "stream",
     "text": [
      "Overwriting code/inference.py\n"
     ]
    }
   ],
   "source": [
    "%%writefile code/inference.py\n",
    "\n",
    "import json\n",
    "import os\n",
    "import torch\n",
    "import numpy as np\n",
    "from torch import nn\n",
    "\n",
    "class LSTM(nn.Module):\n",
    "    def __init__(self, input_size=1, hidden_size=50, num_layers=1):\n",
    "        super(LSTM, self).__init__()\n",
    "        self.hidden_size = hidden_size\n",
    "        self.num_layers = num_layers\n",
    "        self.lstm = nn.LSTM(input_size, hidden_size, num_layers, batch_first=True)\n",
    "        self.fc = nn.Linear(hidden_size, 1)\n",
    "\n",
    "    def forward(self, x):\n",
    "        h0 = torch.zeros(self.num_layers, x.size(0), self.hidden_size)\n",
    "        c0 = torch.zeros(self.num_layers, x.size(0), self.hidden_size)\n",
    "        out, _ = self.lstm(x.unsqueeze(-1), (h0, c0))\n",
    "        # out is (batch_size, seq_len, hidden_size)\n",
    "        # We want the last timestep\n",
    "        out = out[:, -1, :]\n",
    "        out = self.fc(out)  # shape (batch_size, 1)\n",
    "        return out\n",
    "\n",
    "def model_fn(model_dir):\n",
    "    \"\"\"\n",
    "    Loads the model from the model_dir. This is invoked by SageMaker once at\n",
    "    container startup to initialize your model. The returned object is passed\n",
    "    to `predict_fn` for every inference request.\n",
    "    \"\"\"\n",
    "    # Create model with the same architecture/hyperparams as training\n",
    "    model = LSTM(input_size=1, hidden_size=50, num_layers=1)\n",
    "    # Load state dict from model.pt\n",
    "    model_path = os.path.join(model_dir, \"model.pt\")\n",
    "    model.load_state_dict(torch.load(model_path, map_location=torch.device(\"cpu\")))\n",
    "    model.eval()\n",
    "    return model\n",
    "\n",
    "def input_fn(request_body, request_content_type):\n",
    "    \"\"\"\n",
    "    Deserializes the incoming request body into a PyTorch tensor.\n",
    "    - If you expect JSON, parse it.\n",
    "    - If you expect CSV, parse differently, etc.\n",
    "    \"\"\"\n",
    "    if request_content_type == \"application/json\":\n",
    "        # Example: request_body = '{\"data\": [12.3, 45.6, 78.9, ...]}'\n",
    "        data = json.loads(request_body)[\"data\"]\n",
    "        # Convert to a float32 tensor. Suppose it's a 1D series (seq_len).\n",
    "        inputs = torch.tensor([data], dtype=torch.float32)\n",
    "        return inputs\n",
    "    else:\n",
    "        raise ValueError(f\"Unsupported content type: {request_content_type}\")\n",
    "\n",
    "def predict_fn(input_object, model):\n",
    "    \"\"\"\n",
    "    Performs prediction on the deserialized input.\n",
    "    \"\"\"\n",
    "    with torch.no_grad():\n",
    "        # input_object shape = (batch=1, seq_len)\n",
    "        preds = model(input_object)  # shape = (batch=1, 1)\n",
    "    return preds\n",
    "\n",
    "def output_fn(prediction, response_content_type):\n",
    "    \"\"\"\n",
    "    Serializes the prediction output.\n",
    "    \"\"\"\n",
    "    if response_content_type == \"application/json\":\n",
    "        # Convert the tensor to a Python float\n",
    "        result = prediction.squeeze().item()  # single float\n",
    "        return json.dumps({\"prediction\": result})\n",
    "    else:\n",
    "        raise ValueError(f\"Unsupported response content type: {response_content_type}\")\n"
   ]
  },
  {
   "cell_type": "code",
   "execution_count": 12,
   "id": "2afe3020-97f4-4e37-97e5-71d6271260ca",
   "metadata": {},
   "outputs": [],
   "source": [
    "from sagemaker.pytorch.model import PyTorchModel\n",
    "from sagemaker.workflow.model_step import ModelStep\n",
    "\n",
    "inference_model = PyTorchModel(\n",
    "    model_data=step_train.properties.ModelArtifacts.S3ModelArtifacts,\n",
    "    role=role,\n",
    "    sagemaker_session=pipeline_session,\n",
    "    framework_version=\"2.0\",\n",
    "    py_version=\"py310\",\n",
    "    entry_point=\"inference.py\",\n",
    "    source_dir=\"code\",\n",
    ")\n",
    "\n",
    "step_create = ModelStep(\n",
    "    name=\"AirDataCreateModel\",\n",
    "    step_args=inference_model.create(instance_type=\"ml.m5.large\"),\n",
    ")"
   ]
  },
  {
   "cell_type": "code",
   "execution_count": 13,
   "id": "9b3f5ae7-c26c-4be8-bf51-59c09a45445a",
   "metadata": {},
   "outputs": [],
   "source": [
    "from sagemaker.model_metrics import MetricsSource, ModelMetrics\n",
    "\n",
    "model_metrics = None  # metrics we want?\n",
    "register_args = inference_model.register(\n",
    "    content_types=[\"application/json\"],\n",
    "    response_types=[\"application/json\"],\n",
    "    inference_instances=[\"ml.m5.xlarge\"],\n",
    "    transform_instances=[\"ml.m5.xlarge\"],\n",
    "    model_package_group_name=\"AirDataModelGroup\",\n",
    "    approval_status=model_approval_status,\n",
    "    model_metrics=model_metrics,\n",
    ")\n",
    "\n",
    "step_register = ModelStep(\n",
    "    name=\"RegisterAirDataModel\",\n",
    "    step_args=register_args\n",
    ")\n",
    "\n",
    "step_register = ModelStep(name=\"AirDataRegisterModel\", step_args=register_args)"
   ]
  },
  {
   "cell_type": "markdown",
   "id": "03bd3892-0348-4c3b-99bf-d3fa07f7b28e",
   "metadata": {},
   "source": [
    "## Model Evaluation"
   ]
  },
  {
   "cell_type": "code",
   "execution_count": null,
   "id": "85486c31-2539-4c49-bf40-cf136968528c",
   "metadata": {},
   "outputs": [],
   "source": [
    "from sagemaker.workflow.functions import JsonGet\n",
    "from sagemaker.workflow.condition_step import ConditionStep\n",
    "from sagemaker.workflow.conditions import ConditionLessThanOrEqualTo\n",
    "from sagemaker.workflow.fail_step import FailStep\n",
    "from sagemaker.workflow.functions import Join\n",
    "\n",
    "step_fail = FailStep(\n",
    "    name=\"MSEFail\",\n",
    "    error_message=Join(on=\" \", values=[\"Execution failed due to MSE >\", mse_threshold])\n",
    ")\n",
    "\n",
    "test_mse = step_train.properties.FinalMetricDataList[0].Value\n",
    "\n",
    "step_check_loss = ConditionStep(\n",
    "    name=\"CheckTestLoss\",\n",
    "    conditions=[\n",
    "        ConditionLessThanOrEqualTo(\n",
    "            left=test_mse,\n",
    "            right=mse_threshold\n",
    "        )\n",
    "    ],\n",
    "    if_steps=[\n",
    "        step_create, step_register\n",
    "    ],\n",
    "    else_steps=[step_fail],\n",
    ")\n"
   ]
  },
  {
   "cell_type": "markdown",
   "id": "a0b22481-17c6-462d-979f-fc4cfa8a5f00",
   "metadata": {},
   "source": [
    "## Create Pipeline"
   ]
  },
  {
   "cell_type": "code",
   "execution_count": null,
   "id": "721c3b10-97dc-498f-a673-434e7e09e839",
   "metadata": {},
   "outputs": [],
   "source": [
    "from sagemaker.workflow.pipeline import Pipeline\n",
    "\n",
    "pipeline_name = f\"AirDataPipeline\"\n",
    "pipeline = Pipeline(\n",
    "    name=pipeline_name,\n",
    "    parameters=[\n",
    "        processing_instance_count,\n",
    "        instance_type,\n",
    "        model_approval_status,\n",
    "        input_data,\n",
    "        mse_threshold,\n",
    "    ],\n",
    "    steps=[\n",
    "        step_process,\n",
    "        step_train,\n",
    "        step_check_loss,\n",
    "    ],\n",
    ")"
   ]
  },
  {
   "cell_type": "code",
   "execution_count": null,
   "id": "664e58bb-0ef1-46b9-9315-86ddb171a3a4",
   "metadata": {},
   "outputs": [],
   "source": [
    "import json\n",
    "\n",
    "definition = json.loads(pipeline.definition())\n",
    "definition"
   ]
  },
  {
   "cell_type": "markdown",
   "id": "4b1fb62c-20ad-41bf-9d18-46e48cfcd629",
   "metadata": {},
   "source": [
    "## Execute Pipeline"
   ]
  },
  {
   "cell_type": "code",
   "execution_count": null,
   "id": "f3f8f37f-bf9b-4943-a5b1-62fe3ee2ab3b",
   "metadata": {},
   "outputs": [],
   "source": [
    "pipeline.upsert(role_arn=role)\n",
    "execution = pipeline.start()\n",
    "try:\n",
    "    execution.wait()\n",
    "except Exception as error:\n",
    "    print(error)"
   ]
  },
  {
   "cell_type": "code",
   "execution_count": null,
   "id": "55336dbe-eb0a-4ee8-bcb3-476ae4e37cd4",
   "metadata": {},
   "outputs": [],
   "source": [
    "execution.describe()"
   ]
  },
  {
   "cell_type": "code",
   "execution_count": null,
   "id": "36eca0e3-1d62-4569-9f13-1d40e8b291d8",
   "metadata": {},
   "outputs": [],
   "source": [
    "execution.list_steps()"
   ]
  },
  {
   "cell_type": "markdown",
   "id": "eb574c0b-02e6-449a-a80b-544514074110",
   "metadata": {},
   "source": [
    "## Call Inference Endpoint\n",
    "*I attempted to make endpoint deployment part of the pipeline but encountered a lot of issues with this. Keeping it manual.*"
   ]
  },
  {
   "cell_type": "code",
   "execution_count": null,
   "id": "a9e9f127-24ee-4432-8400-d9dbe9026eb0",
   "metadata": {},
   "outputs": [],
   "source": [
    "predictor = inference_model.deploy(\n",
    "    initial_instance_count=1,\n",
    "    instance_type=\"ml.m5.xlarge\"\n",
    ")\n",
    "\n",
    "response = predictor.predict({\"data\": [12.3, 45.6, 78.9]})\n",
    "print(response)"
   ]
  }
 ],
 "metadata": {
  "kernelspec": {
   "display_name": "Python 3 (ipykernel)",
   "language": "python",
   "name": "python3"
  },
  "language_info": {
   "codemirror_mode": {
    "name": "ipython",
    "version": 3
   },
   "file_extension": ".py",
   "mimetype": "text/x-python",
   "name": "python",
   "nbconvert_exporter": "python",
   "pygments_lexer": "ipython3",
   "version": "3.11.11"
  }
 },
 "nbformat": 4,
 "nbformat_minor": 5
}
