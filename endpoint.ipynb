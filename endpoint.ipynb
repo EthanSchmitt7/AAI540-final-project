{
 "cells": [
  {
   "cell_type": "code",
   "execution_count": 1,
   "id": "2d54143a-6ab1-403d-9056-c8c1c4759bd4",
   "metadata": {},
   "outputs": [
    {
     "name": "stdout",
     "output_type": "stream",
     "text": [
      "sagemaker.config INFO - Not applying SDK defaults from location: /etc/xdg/sagemaker/config.yaml\n",
      "sagemaker.config INFO - Not applying SDK defaults from location: /home/sagemaker-user/.config/sagemaker/config.yaml\n"
     ]
    }
   ],
   "source": [
    "import json\n",
    "import boto3\n",
    "import sagemaker\n",
    "from sagemaker.pytorch import PyTorchModel"
   ]
  },
  {
   "cell_type": "code",
   "execution_count": 2,
   "id": "029ae980-f04f-42c9-918a-7935d035d89e",
   "metadata": {},
   "outputs": [],
   "source": [
    "# Upload model to S3 and deploy endpoint\n",
    "s3 = boto3.client(\"s3\")\n",
    "role = sagemaker.get_execution_role()\n",
    "sess = sagemaker.Session()\n",
    "region = sess.boto_region_name\n",
    "\n",
    "bucket_name = sess.default_bucket()\n",
    "model_path = \"airdata/model.pt\""
   ]
  },
  {
   "cell_type": "code",
   "execution_count": 3,
   "id": "b4050086-0090-4642-9269-5cb1995fefab",
   "metadata": {},
   "outputs": [],
   "source": [
    "import tarfile\n",
    "\n",
    "# Define model artifact file name\n",
    "tar_model_path = \"model.tar.gz\"\n",
    "\n",
    "# Create a tar.gz file containing the model.pt\n",
    "with tarfile.open(tar_model_path, \"w:gz\") as tar:\n",
    "    tar.add(\"best_model_02.pt\", arcname=\"model.pt\")\n"
   ]
  },
  {
   "cell_type": "code",
   "execution_count": 4,
   "id": "c66e426b-4678-4523-a615-7c09ef26ab13",
   "metadata": {},
   "outputs": [
    {
     "name": "stdout",
     "output_type": "stream",
     "text": [
      "Model uploaded to: s3://sagemaker-us-east-1-768099485759/airdata/model.tar.gz\n"
     ]
    }
   ],
   "source": [
    "# Upload model file\n",
    "s3.upload_file(tar_model_path, bucket_name, \"airdata/model.tar.gz\")\n",
    "s3_model_uri = f\"s3://{bucket_name}/airdata/model.tar.gz\"\n",
    "\n",
    "print(\"Model uploaded to:\", s3_model_uri)"
   ]
  },
  {
   "cell_type": "code",
   "execution_count": 5,
   "id": "f0c897b3-acb3-4a65-863b-32b49803408c",
   "metadata": {},
   "outputs": [],
   "source": [
    "# Create and deploy SageMaker model\n",
    "pytorch_model = PyTorchModel(\n",
    "    model_data=s3_model_uri,\n",
    "    role=role,\n",
    "    entry_point=\"inference.py\",\n",
    "    source_dir=\"code\",\n",
    "    framework_version=\"1.12\",\n",
    "    py_version=\"py38\"\n",
    ")"
   ]
  },
  {
   "cell_type": "code",
   "execution_count": 6,
   "id": "663a5f5f-4d3d-439c-9d83-65d0e8ad21dc",
   "metadata": {},
   "outputs": [
    {
     "name": "stdout",
     "output_type": "stream",
     "text": [
      "------!\n",
      "SageMaker endpoint deployed at: pytorch-inference-2025-02-19-16-59-13-246\n"
     ]
    }
   ],
   "source": [
    "predictor = pytorch_model.deploy(\n",
    "    instance_type=\"ml.m5.large\",\n",
    "    initial_instance_count=1\n",
    ")\n",
    "\n",
    "print(\"\\nSageMaker endpoint deployed at:\", predictor.endpoint_name)"
   ]
  },
  {
   "cell_type": "code",
   "execution_count": 7,
   "id": "e23f5b16-17f3-44df-977a-6f12b4cef46f",
   "metadata": {},
   "outputs": [],
   "source": [
    "# Query the deployed endpoint for testing\n",
    "runtime_client = boto3.client(\"sagemaker-runtime\")"
   ]
  },
  {
   "cell_type": "code",
   "execution_count": 8,
   "id": "6cc836da-ce85-4f31-bc47-cb4e17efce77",
   "metadata": {},
   "outputs": [],
   "source": [
    "def query_endpoint(endpoint_name, input_data):\n",
    "    response = runtime_client.invoke_endpoint(\n",
    "        EndpointName=endpoint_name,\n",
    "        ContentType=\"application/json\",\n",
    "        Body=json.dumps({\"data\": input_data})\n",
    "    )\n",
    "    result = json.loads(response[\"Body\"].read().decode())\n",
    "    print(\"Prediction response:\", result)\n",
    "    return result"
   ]
  },
  {
   "cell_type": "code",
   "execution_count": 9,
   "id": "154e0115-451b-4514-b020-57df1b0eb740",
   "metadata": {},
   "outputs": [
    {
     "name": "stdout",
     "output_type": "stream",
     "text": [
      "Prediction response: {'prediction': 2.81050968170166}\n"
     ]
    },
    {
     "data": {
      "text/plain": [
       "{'prediction': 2.81050968170166}"
      ]
     },
     "execution_count": 9,
     "metadata": {},
     "output_type": "execute_result"
    }
   ],
   "source": [
    "# Example test input\n",
    "example_input = [7.5]  # Replace with real sensor data\n",
    "query_endpoint(predictor.endpoint_name, example_input)"
   ]
  },
  {
   "cell_type": "code",
   "execution_count": null,
   "id": "37fbf135-f5c6-4a1f-b7a0-585829508189",
   "metadata": {},
   "outputs": [],
   "source": []
  }
 ],
 "metadata": {
  "kernelspec": {
   "display_name": "Python 3 (ipykernel)",
   "language": "python",
   "name": "python3"
  },
  "language_info": {
   "codemirror_mode": {
    "name": "ipython",
    "version": 3
   },
   "file_extension": ".py",
   "mimetype": "text/x-python",
   "name": "python",
   "nbconvert_exporter": "python",
   "pygments_lexer": "ipython3",
   "version": "3.11.11"
  }
 },
 "nbformat": 4,
 "nbformat_minor": 5
}
