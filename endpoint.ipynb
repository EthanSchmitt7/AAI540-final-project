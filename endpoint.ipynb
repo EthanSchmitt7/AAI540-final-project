{
 "cells": [
  {
   "cell_type": "markdown",
   "id": "b4416a85",
   "metadata": {},
   "source": [
    "# Endpoint Deployment"
   ]
  },
  {
   "cell_type": "code",
   "execution_count": 11,
   "id": "7370a460-7bdb-40e7-a411-2b1db4399919",
   "metadata": {},
   "outputs": [],
   "source": [
    "import json\n",
    "import boto3\n",
    "import pandas as pd\n",
    "import sagemaker\n",
    "\n",
    "from sagemaker.model import ModelPackage\n",
    "from time import sleep"
   ]
  },
  {
   "cell_type": "code",
   "execution_count": 2,
   "id": "c52c0e31-cc92-4776-839c-7f76bcd0990a",
   "metadata": {},
   "outputs": [],
   "source": [
    "# Establish sagemaker session\n",
    "sagemaker_session = sagemaker.session.Session()\n",
    "region = sagemaker_session.boto_region_name\n",
    "role = sagemaker.get_execution_role()"
   ]
  },
  {
   "cell_type": "code",
   "execution_count": 3,
   "id": "1da74216-727f-4509-9fb9-9f2c0280c453",
   "metadata": {},
   "outputs": [],
   "source": [
    "# Establish sagemaker client\n",
    "boto_session = boto3.Session(region_name=region)\n",
    "sagemaker_client = boto_session.client(service_name=\"sagemaker\", region_name=region)"
   ]
  },
  {
   "cell_type": "code",
   "execution_count": 4,
   "id": "8b4e76eb-bab5-457a-96c2-2d2b3f1c620d",
   "metadata": {},
   "outputs": [
    {
     "name": "stdout",
     "output_type": "stream",
     "text": [
      "Most recent model package ARN: arn:aws:sagemaker:us-east-1:768099485759:model-package/AirDataModelGroup/2\n"
     ]
    }
   ],
   "source": [
    "# Get model group\n",
    "MODEL_PACKAGE_GROUP = \"AirDataModelGroup\"\n",
    "\n",
    "# Get all model packages in the group, sorted by creation time\n",
    "model_packages = sagemaker_client.list_model_packages(\n",
    "    ModelPackageGroupName=MODEL_PACKAGE_GROUP,\n",
    "    SortBy=\"CreationTime\",\n",
    "    SortOrder=\"Descending\",\n",
    ")[\"ModelPackageSummaryList\"]\n",
    "\n",
    "if not model_packages:\n",
    "    raise ValueError(f\"No models found in Model Package Group: {MODEL_PACKAGE_GROUP}\")\n",
    "\n",
    "# Get the most recent model package ARN\n",
    "model_package_arn = model_packages[0][\"ModelPackageArn\"]\n",
    "\n",
    "print(f\"Most recent model package ARN: {model_package_arn}\")"
   ]
  },
  {
   "cell_type": "code",
   "execution_count": 5,
   "id": "066a5b7f",
   "metadata": {},
   "outputs": [
    {
     "name": "stdout",
     "output_type": "stream",
     "text": [
      "------!"
     ]
    }
   ],
   "source": [
    "# Deploy endpoint\n",
    "deployment_model = ModelPackage(\n",
    "    role=role,\n",
    "    model_package_arn=model_package_arn,\n",
    ")\n",
    "\n",
    "predictor = deployment_model.deploy(\n",
    "    initial_instance_count=1,\n",
    "    instance_type=\"ml.m5.xlarge\",\n",
    ")"
   ]
  },
  {
   "cell_type": "code",
   "execution_count": 6,
   "id": "bac54514",
   "metadata": {},
   "outputs": [
    {
     "name": "stdout",
     "output_type": "stream",
     "text": [
      "Endpoint Name: AirDataModelGroup-2025-02-24-06-23-30-370, Status: InService\n"
     ]
    }
   ],
   "source": [
    "# Check on deployed endpoint\n",
    "response = sagemaker_client.list_endpoints()\n",
    "for endpoint in response[\"Endpoints\"]:\n",
    "    print(f\"Endpoint Name: {endpoint['EndpointName']}, Status: {endpoint['EndpointStatus']}\")"
   ]
  },
  {
   "cell_type": "code",
   "execution_count": 7,
   "id": "99f4118d-128c-4bda-8709-29bfe58ec28a",
   "metadata": {},
   "outputs": [],
   "source": [
    "runtime_client = boto3.client(\"sagemaker-runtime\")\n",
    "\n",
    "def query_endpoint(endpoint_name, input_data):\n",
    "    response = runtime_client.invoke_endpoint(\n",
    "        EndpointName=endpoint_name,\n",
    "        ContentType=\"application/json\",\n",
    "        Body=json.dumps({\"data\": input_data}),\n",
    "    )\n",
    "    result = json.loads(response[\"Body\"].read().decode())\n",
    "    print(\"Prediction response:\", result)\n",
    "    return result"
   ]
  },
  {
   "cell_type": "code",
   "execution_count": 8,
   "id": "d61e853d",
   "metadata": {},
   "outputs": [],
   "source": [
    "# Load in simulated production data\n",
    "production_data = pd.read_csv(\"data/production_data.csv\")\n",
    "prod_X = production_data[\"value\"].to_numpy().reshape(-1, 1)"
   ]
  },
  {
   "cell_type": "code",
   "execution_count": 9,
   "id": "fda35c00-82a7-4162-a7cd-957760fe194f",
   "metadata": {},
   "outputs": [
    {
     "name": "stdout",
     "output_type": "stream",
     "text": [
      "Prediction response: {'prediction': -0.04328629152781455}\n"
     ]
    }
   ],
   "source": [
    "# Test a single query\n",
    "input = prod_X[0].tolist()\n",
    "\n",
    "# Send data to the endpoint for inference\n",
    "result = query_endpoint(endpoint['EndpointName'], input)"
   ]
  },
  {
   "cell_type": "code",
   "execution_count": 12,
   "id": "8d273078",
   "metadata": {},
   "outputs": [
    {
     "name": "stdout",
     "output_type": "stream",
     "text": [
      "Prediction response: {'prediction': -0.04328629152781455}\n",
      "Prediction response: {'prediction': -0.21263074811295715}\n"
     ]
    },
    {
     "ename": "KeyboardInterrupt",
     "evalue": "",
     "output_type": "error",
     "traceback": [
      "\u001b[0;31m---------------------------------------------------------------------------\u001b[0m",
      "\u001b[0;31mKeyboardInterrupt\u001b[0m                         Traceback (most recent call last)",
      "Cell \u001b[0;32mIn[12], line 10\u001b[0m\n\u001b[1;32m      7\u001b[0m result \u001b[38;5;241m=\u001b[39m query_endpoint(endpoint[\u001b[38;5;124m'\u001b[39m\u001b[38;5;124mEndpointName\u001b[39m\u001b[38;5;124m'\u001b[39m], \u001b[38;5;28minput\u001b[39m)\n\u001b[1;32m      9\u001b[0m \u001b[38;5;66;03m# Sleep for 60 seconds before sending the input\u001b[39;00m\n\u001b[0;32m---> 10\u001b[0m \u001b[43msleep\u001b[49m\u001b[43m(\u001b[49m\u001b[38;5;241;43m60\u001b[39;49m\u001b[43m)\u001b[49m\n",
      "\u001b[0;31mKeyboardInterrupt\u001b[0m: "
     ]
    }
   ],
   "source": [
    "# Simulate feeding data every 60 seconds\n",
    "for i in range(len(prod_X)):\n",
    "    # Send one sample at a time\n",
    "    input = prod_X[i].tolist()\n",
    "\n",
    "    # Send data to the endpoint for inference\n",
    "    result = query_endpoint(endpoint['EndpointName'], input)\n",
    "\n",
    "    # Sleep for 60 seconds before sending the input\n",
    "    sleep(60)"
   ]
  },
  {
   "cell_type": "code",
   "execution_count": null,
   "id": "adefb2c0-6621-4a85-af5c-619ea149275b",
   "metadata": {},
   "outputs": [],
   "source": []
  }
 ],
 "metadata": {
  "kernelspec": {
   "display_name": "Python 3 (ipykernel)",
   "language": "python",
   "name": "python3"
  },
  "language_info": {
   "codemirror_mode": {
    "name": "ipython",
    "version": 3
   },
   "file_extension": ".py",
   "mimetype": "text/x-python",
   "name": "python",
   "nbconvert_exporter": "python",
   "pygments_lexer": "ipython3",
   "version": "3.11.11"
  }
 },
 "nbformat": 4,
 "nbformat_minor": 5
}
