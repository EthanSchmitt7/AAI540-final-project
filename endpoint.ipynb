{
 "cells": [
  {
   "cell_type": "markdown",
   "id": "b4416a85",
   "metadata": {},
   "source": [
    "# Endpoint Deployment"
   ]
  },
  {
   "cell_type": "code",
   "execution_count": 1,
   "id": "7370a460-7bdb-40e7-a411-2b1db4399919",
   "metadata": {},
   "outputs": [
    {
     "name": "stdout",
     "output_type": "stream",
     "text": [
      "sagemaker.config INFO - Not applying SDK defaults from location: /etc/xdg/sagemaker/config.yaml\n",
      "sagemaker.config INFO - Not applying SDK defaults from location: /home/sagemaker-user/.config/sagemaker/config.yaml\n"
     ]
    }
   ],
   "source": [
    "import boto3\n",
    "import pandas as pd\n",
    "import sagemaker\n",
    "\n",
    "from sagemaker.model import ModelPackage"
   ]
  },
  {
   "cell_type": "code",
   "execution_count": 2,
   "id": "c52c0e31-cc92-4776-839c-7f76bcd0990a",
   "metadata": {},
   "outputs": [],
   "source": [
    "# Establish sagemaker session\n",
    "sagemaker_session = sagemaker.session.Session()\n",
    "region = sagemaker_session.boto_region_name\n",
    "role = sagemaker.get_execution_role()"
   ]
  },
  {
   "cell_type": "code",
   "execution_count": 3,
   "id": "1da74216-727f-4509-9fb9-9f2c0280c453",
   "metadata": {},
   "outputs": [],
   "source": [
    "# Establish sagemaker client\n",
    "boto_session = boto3.Session(region_name=region)\n",
    "sagemaker_client = boto_session.client(service_name=\"sagemaker\", region_name=region)"
   ]
  },
  {
   "cell_type": "code",
   "execution_count": 4,
   "id": "8b4e76eb-bab5-457a-96c2-2d2b3f1c620d",
   "metadata": {},
   "outputs": [
    {
     "name": "stdout",
     "output_type": "stream",
     "text": [
      "Most recent model package ARN: arn:aws:sagemaker:us-east-1:768099485759:model-package/AirDataModelGroup/1\n"
     ]
    }
   ],
   "source": [
    "# Get model group\n",
    "MODEL_PACKAGE_GROUP = \"AirDataModelGroup\"\n",
    "\n",
    "# Get all model packages in the group, sorted by creation time\n",
    "model_packages = sagemaker_client.list_model_packages(\n",
    "    ModelPackageGroupName=MODEL_PACKAGE_GROUP,\n",
    "    SortBy=\"CreationTime\",\n",
    "    SortOrder=\"Descending\",\n",
    ")[\"ModelPackageSummaryList\"]\n",
    "\n",
    "if not model_packages:\n",
    "    raise ValueError(f\"No models found in Model Package Group: {MODEL_PACKAGE_GROUP}\")\n",
    "\n",
    "# Get the most recent model package ARN\n",
    "model_package_arn = model_packages[0][\"ModelPackageArn\"]\n",
    "\n",
    "print(f\"Most recent model package ARN: {model_package_arn}\")"
   ]
  },
  {
   "cell_type": "code",
   "execution_count": 5,
   "id": "066a5b7f",
   "metadata": {},
   "outputs": [
    {
     "name": "stdout",
     "output_type": "stream",
     "text": [
      "------!"
     ]
    }
   ],
   "source": [
    "# Deploy endpoint\n",
    "deployment_model = ModelPackage(\n",
    "    role=role,\n",
    "    model_package_arn=model_package_arn,\n",
    ")\n",
    "\n",
    "predictor = deployment_model.deploy(\n",
    "    initial_instance_count=1,\n",
    "    instance_type=\"ml.m5.xlarge\",\n",
    ")"
   ]
  },
  {
   "cell_type": "code",
   "execution_count": 6,
   "id": "bac54514",
   "metadata": {},
   "outputs": [
    {
     "name": "stdout",
     "output_type": "stream",
     "text": [
      "Endpoint Name: AirDataModelGroup-2025-02-24-05-34-35-395, Status: InService\n"
     ]
    }
   ],
   "source": [
    "# Check on deployed endpoint\n",
    "response = sagemaker_client.list_endpoints()\n",
    "for endpoint in response[\"Endpoints\"]:\n",
    "    print(f\"Endpoint Name: {endpoint['EndpointName']}, Status: {endpoint['EndpointStatus']}\")"
   ]
  },
  {
   "cell_type": "code",
   "execution_count": 7,
   "id": "d61e853d",
   "metadata": {},
   "outputs": [],
   "source": [
    "# Load in simulated production data\n",
    "production_data = pd.read_csv(\"data/production_data.csv\")\n",
    "prod_X = production_data[\"value\"].to_numpy().reshape(-1, 1)"
   ]
  },
  {
   "cell_type": "code",
   "execution_count": 8,
   "id": "8d273078",
   "metadata": {},
   "outputs": [
    {
     "ename": "NameError",
     "evalue": "name 'query_endpoint' is not defined",
     "output_type": "error",
     "traceback": [
      "\u001b[0;31m---------------------------------------------------------------------------\u001b[0m",
      "\u001b[0;31mNameError\u001b[0m                                 Traceback (most recent call last)",
      "Cell \u001b[0;32mIn[8], line 7\u001b[0m\n\u001b[1;32m      4\u001b[0m \u001b[38;5;28minput\u001b[39m \u001b[38;5;241m=\u001b[39m prod_X[i]\u001b[38;5;241m.\u001b[39mtolist()\n\u001b[1;32m      6\u001b[0m \u001b[38;5;66;03m# Send data to the endpoint for inference\u001b[39;00m\n\u001b[0;32m----> 7\u001b[0m result \u001b[38;5;241m=\u001b[39m \u001b[43mquery_endpoint\u001b[49m(predictor\u001b[38;5;241m.\u001b[39mendpoint_name, \u001b[38;5;28minput\u001b[39m)\n\u001b[1;32m      9\u001b[0m \u001b[38;5;66;03m# Sleep for 60 seconds before sending the input\u001b[39;00m\n\u001b[1;32m     10\u001b[0m sleep(\u001b[38;5;241m60\u001b[39m)\n",
      "\u001b[0;31mNameError\u001b[0m: name 'query_endpoint' is not defined"
     ]
    }
   ],
   "source": [
    "# Simulate feeding data every 60 seconds\n",
    "for i in range(len(prod_X)):\n",
    "    # Send one sample at a time\n",
    "    input = prod_X[i].tolist()\n",
    "\n",
    "    # Send data to the endpoint for inference\n",
    "    result = query_endpoint(predictor.endpoint_name, input)\n",
    "\n",
    "    # Sleep for 60 seconds before sending the input\n",
    "    sleep(60)"
   ]
  }
 ],
 "metadata": {
  "kernelspec": {
   "display_name": "Python 3 (ipykernel)",
   "language": "python",
   "name": "python3"
  },
  "language_info": {
   "codemirror_mode": {
    "name": "ipython",
    "version": 3
   },
   "file_extension": ".py",
   "mimetype": "text/x-python",
   "name": "python",
   "nbconvert_exporter": "python",
   "pygments_lexer": "ipython3",
   "version": "3.11.11"
  }
 },
 "nbformat": 4,
 "nbformat_minor": 5
}
